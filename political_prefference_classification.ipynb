{
 "metadata": {
  "language_info": {
   "codemirror_mode": {
    "name": "ipython",
    "version": 3
   },
   "file_extension": ".py",
   "mimetype": "text/x-python",
   "name": "python",
   "nbconvert_exporter": "python",
   "pygments_lexer": "ipython3",
   "version": "3.8.5-final"
  },
  "orig_nbformat": 2,
  "kernelspec": {
   "name": "python3",
   "display_name": "Python 3.8.5 64-bit",
   "metadata": {
    "interpreter": {
     "hash": "31f2aee4e71d21fbe5cf8b01ff0e069b9275f58929596ceb00d14d90e3e16cd6"
    }
   }
  }
 },
 "nbformat": 4,
 "nbformat_minor": 2,
 "cells": [
  {
   "cell_type": "code",
   "execution_count": 2,
   "metadata": {},
   "outputs": [],
   "source": [
    "import numpy as np\n",
    "import pandas as pd\n",
    "pd.set_option('mode.chained_assignment', 'raise')\n",
    "import matplotlib.pyplot as plt\n",
    "plt.style.use('fivethirtyeight')\n",
    "%matplotlib inline\n",
    "\n",
    "# Suppress warning about mixed data types in columns (change this later?)\n",
    "import warnings\n",
    "warnings.filterwarnings('ignore')\n",
    "\n",
    "# Import Some of the useful defined functions\n",
    "import useful_fun as uf\n",
    "# object with different useful regions defined\n",
    "regions = uf.Regions()"
   ]
  },
  {
   "cell_type": "code",
   "execution_count": 3,
   "metadata": {},
   "outputs": [
    {
     "output_type": "stream",
     "name": "stdout",
     "text": [
      "File already present\n"
     ]
    }
   ],
   "source": [
    "# Extract the the zipped csv data if it already hasn't been extracted \n",
    "import os.path\n",
    "import zipfile\n",
    "\n",
    "if not os.path.isfile('./data/LiTS_III_2016.csv'):\n",
    "    with zipfile.ZipFile(\"./data/LiTS_III_2016.zip\",\"r\") as zip_ref:\n",
    "        zip_ref.extractall(\"./data/\")\n",
    "else:\n",
    "    print('File already present')"
   ]
  },
  {
   "cell_type": "code",
   "execution_count": 4,
   "metadata": {},
   "outputs": [],
   "source": [
    "# Reading the dataframe\n",
    "lits_2016_full = pd.read_csv('./data/LiTS_III_2016.csv') # data in the repo folder linux\n",
    "# lits_2016 = pd.read_csv('LiTS III.csv')"
   ]
  },
  {
   "source": [
    "I will try and use the following questions to make k-NN classifier for determening political / market inclination.\n",
    "\n",
    "age  \n",
    "gender  \n",
    "country  \n",
    "q223 - Monthly Income  \n",
    "q204 - Internet Acess (Yes / No)  \n",
    "q109 - Education Level (1 - 8)  \n",
    "* q109_1 - primary responent\n",
    "\n",
    "q203 - Books Growing Up (1 - 5)  \n",
    "q403 - Trust in People (1 - 5)  \n",
    "q428 - Risktaking (1-10)  \n",
    "q901 - State of Health (1-5)  \n",
    "q904 - sources of information (1-7)  \n",
    "* radio / TV - a  \n",
    "* social media - g  \n",
    "\n",
    "905 - hours of TV watched yesterday.  \n"
   ],
   "cell_type": "markdown",
   "metadata": {}
  },
  {
   "cell_type": "code",
   "execution_count": 5,
   "metadata": {},
   "outputs": [
    {
     "output_type": "execute_result",
     "data": {
      "text/plain": [
       "   Country  Gender  Internet Acess  Age  Monthly Income  Education Level  \\\n",
       "0  Albania       2               3   47             -99                2   \n",
       "1  Albania       1               2   58           50000                2   \n",
       "2  Albania       1               3   40             -99                7   \n",
       "3  Albania       1               2   58           30000                2   \n",
       "4  Albania       2               1   28             -97                7   \n",
       "\n",
       "   Books Growing Up  Trust in People  Risktaking  State of Health  TV News  \\\n",
       "0                 1              1.0         3.0              4.0      1.0   \n",
       "1                 1              1.0         3.0              3.0      6.0   \n",
       "2                 1              1.0         2.0              3.0      7.0   \n",
       "3                 1              1.0         2.0              3.0      2.0   \n",
       "4                 2              1.0         2.0              5.0      7.0   \n",
       "\n",
       "   Social Media News  TV Time Yesterday  Political System  Economy Type  \n",
       "0                1.0                2.0               1.0           1.0  \n",
       "1                6.0                5.0               1.0           1.0  \n",
       "2                2.0                5.0               2.0           2.0  \n",
       "3                1.0                2.0               2.0           2.0  \n",
       "4                7.0                9.0               3.0           2.0  "
      ],
      "text/html": "<div>\n<style scoped>\n    .dataframe tbody tr th:only-of-type {\n        vertical-align: middle;\n    }\n\n    .dataframe tbody tr th {\n        vertical-align: top;\n    }\n\n    .dataframe thead th {\n        text-align: right;\n    }\n</style>\n<table border=\"1\" class=\"dataframe\">\n  <thead>\n    <tr style=\"text-align: right;\">\n      <th></th>\n      <th>Country</th>\n      <th>Gender</th>\n      <th>Internet Acess</th>\n      <th>Age</th>\n      <th>Monthly Income</th>\n      <th>Education Level</th>\n      <th>Books Growing Up</th>\n      <th>Trust in People</th>\n      <th>Risktaking</th>\n      <th>State of Health</th>\n      <th>TV News</th>\n      <th>Social Media News</th>\n      <th>TV Time Yesterday</th>\n      <th>Political System</th>\n      <th>Economy Type</th>\n    </tr>\n  </thead>\n  <tbody>\n    <tr>\n      <th>0</th>\n      <td>Albania</td>\n      <td>2</td>\n      <td>3</td>\n      <td>47</td>\n      <td>-99</td>\n      <td>2</td>\n      <td>1</td>\n      <td>1.0</td>\n      <td>3.0</td>\n      <td>4.0</td>\n      <td>1.0</td>\n      <td>1.0</td>\n      <td>2.0</td>\n      <td>1.0</td>\n      <td>1.0</td>\n    </tr>\n    <tr>\n      <th>1</th>\n      <td>Albania</td>\n      <td>1</td>\n      <td>2</td>\n      <td>58</td>\n      <td>50000</td>\n      <td>2</td>\n      <td>1</td>\n      <td>1.0</td>\n      <td>3.0</td>\n      <td>3.0</td>\n      <td>6.0</td>\n      <td>6.0</td>\n      <td>5.0</td>\n      <td>1.0</td>\n      <td>1.0</td>\n    </tr>\n    <tr>\n      <th>2</th>\n      <td>Albania</td>\n      <td>1</td>\n      <td>3</td>\n      <td>40</td>\n      <td>-99</td>\n      <td>7</td>\n      <td>1</td>\n      <td>1.0</td>\n      <td>2.0</td>\n      <td>3.0</td>\n      <td>7.0</td>\n      <td>2.0</td>\n      <td>5.0</td>\n      <td>2.0</td>\n      <td>2.0</td>\n    </tr>\n    <tr>\n      <th>3</th>\n      <td>Albania</td>\n      <td>1</td>\n      <td>2</td>\n      <td>58</td>\n      <td>30000</td>\n      <td>2</td>\n      <td>1</td>\n      <td>1.0</td>\n      <td>2.0</td>\n      <td>3.0</td>\n      <td>2.0</td>\n      <td>1.0</td>\n      <td>2.0</td>\n      <td>2.0</td>\n      <td>2.0</td>\n    </tr>\n    <tr>\n      <th>4</th>\n      <td>Albania</td>\n      <td>2</td>\n      <td>1</td>\n      <td>28</td>\n      <td>-97</td>\n      <td>7</td>\n      <td>2</td>\n      <td>1.0</td>\n      <td>2.0</td>\n      <td>5.0</td>\n      <td>7.0</td>\n      <td>7.0</td>\n      <td>9.0</td>\n      <td>3.0</td>\n      <td>2.0</td>\n    </tr>\n  </tbody>\n</table>\n</div>"
     },
     "metadata": {},
     "execution_count": 5
    }
   ],
   "source": [
    "# Select only the columns we're interested in (can increase this as we go along)\n",
    "good_cols = [\n",
    "'country',#     'Country',\n",
    "'gender_pr',#   'Gender',\n",
    "'q204',#        'Internet Acess',\n",
    "'age_pr',#      'Age',\n",
    "'q223',#        'Monthly Income',\n",
    "'q109_1',#      'Education Level',\n",
    "'q203',#        'Books Growing Up',\n",
    "'q403',#        'Trust in People',\n",
    "'q428',#        'Risktaking',\n",
    "'q901',#        'State of Health',\n",
    "'q904a',#       'TV News',\n",
    "'q904g',#       'Social Media News',\n",
    "'q905',#        'TV Time Yesterday',\n",
    "'q412',#        'Political System',\n",
    "'q411',#        'Economy Type',\n",
    "]\n",
    "lits_2016_selected = lits_2016_full[good_cols]\n",
    "\n",
    "# Give the columns new names\n",
    "good_names = [\n",
    "'Country',\n",
    "'Gender',\n",
    "'Internet Acess',\n",
    "'Age',\n",
    "'Monthly Income',\n",
    "'Education Level',\n",
    "'Books Growing Up',\n",
    "'Trust in People',\n",
    "'Risktaking',\n",
    "'State of Health',\n",
    "'TV News',\n",
    "'Social Media News',\n",
    "'TV Time Yesterday',\n",
    "'Political System',\n",
    "'Economy Type',\n",
    "]\n",
    "lits_2016_selected.columns = good_names\n",
    "lits_2016_selected.head()"
   ]
  },
  {
   "source": [
    "Now let's clean up the data  \n",
    "\n",
    "Remove the following:  \n",
    "* -91 - difficult to say\n",
    "* -99 - refusal\n",
    "* -97 - don't know\n",
    "* -98 - not applicable"
   ],
   "cell_type": "markdown",
   "metadata": {}
  },
  {
   "cell_type": "code",
   "execution_count": 6,
   "metadata": {},
   "outputs": [],
   "source": [
    "exclusion_criteria = [np.nan, -97, -99, -98, -91]\n",
    "meassure = lits_2016_selected.iloc[:,1:].columns\n",
    "\n",
    "lits_2016_selected_clean = uf.exclude_values(lits_2016_selected,meassure,exclusion_criteria)"
   ]
  },
  {
   "cell_type": "code",
   "execution_count": 7,
   "metadata": {},
   "outputs": [
    {
     "output_type": "stream",
     "name": "stdout",
     "text": [
      "The percentage of the rows after cleaning 64.04 %, that is 32791 participants\n"
     ]
    }
   ],
   "source": [
    "percentage_after_cleaning = (lits_2016_selected_clean.shape[0]/lits_2016_selected.shape[0])*100\n",
    "print('The percentage of the rows after cleaning {:2.2f} %, that is {} participants'.format(percentage_after_cleaning, lits_2016_selected_clean.shape[0]))"
   ]
  },
  {
   "source": [
    "Normalize Monthly income by the median in the country"
   ],
   "cell_type": "markdown",
   "metadata": {}
  },
  {
   "cell_type": "code",
   "execution_count": 8,
   "metadata": {},
   "outputs": [],
   "source": [
    "# Median income values in each country\n",
    "byIncome_mean = lits_2016_selected_clean.groupby('Country').median()['Monthly Income']\n",
    "\n",
    "df = lits_2016_selected_clean\n",
    "\n",
    "# Normalize by the median value of monthly income in each country\n",
    "for country in byIncome_mean.index:\n",
    "    df.loc[df['Country']==country,'Monthly Income'] = (df.loc[df['Country']==country,'Monthly Income']/byIncome_mean[country])*100\n"
   ]
  },
  {
   "source": [
    "Adjust answers about internet acess"
   ],
   "cell_type": "markdown",
   "metadata": {}
  },
  {
   "cell_type": "code",
   "execution_count": 9,
   "metadata": {},
   "outputs": [],
   "source": [
    "# 1 - Yes, 2,3,4 - Differnet variations of No\n",
    "\n",
    "df.loc[df['Internet Acess']>1,'Internet Acess']= 2"
   ]
  },
  {
   "source": [
    "### Political Preference / Economy Type classification  \n",
    "#### Market v Planned economy\n",
    "q411 (p23 - questionaire)\n",
    "* 1 - **Capitalist** - A market economy is preferable to any other form of economic system.\n",
    "* 2 - **Social** - Under some circumstances, a planned economy may be preferable to a market economy.\n",
    "* 3 - **Indiferent** - For people like me, it does not matter whether the economic system is organised as a market economy or as a planned economy.\n",
    "* -97 - Don't know.  \n",
    "\n",
    "#### Democratic v Authoritarian system\n",
    "q412 (p23 - questionaire)\n",
    "* 1 - **Democratic** - Democracy is preferable to any other form of political system.\n",
    "* 2 - **Authoritarian** - Under some circumstances, an authoritarian government may be preferable to a democratic one.\n",
    "* 3 - **Indiferent** - For people like me, it does not matter whether a government is democratic or authoritarian.\n",
    "* -97 - Don't know.  \n"
   ],
   "cell_type": "markdown",
   "metadata": {}
  },
  {
   "source": [
    "### I will try and use the columns 'Age' to 'TV Time Yesterday' to try and classify inclination towards Democratic or Authoritarian system."
   ],
   "cell_type": "markdown",
   "metadata": {}
  },
  {
   "source": [
    "Split the dataframe into training and test sets."
   ],
   "cell_type": "markdown",
   "metadata": {}
  },
  {
   "cell_type": "code",
   "execution_count": 10,
   "metadata": {},
   "outputs": [
    {
     "output_type": "stream",
     "name": "stdout",
     "text": [
      "Training set:\t 26233 examples\nTest set:\t 6558 examples\n"
     ]
    }
   ],
   "source": [
    "# training_proportion = 11/16\n",
    "training_proportion = 8/10\n",
    "participants = len(lits_2016_selected_clean)\n",
    "num_train = int(round(participants * training_proportion))\n",
    "# Shuffle the dataframe\n",
    "lits_2016_selected_clean_shuffled = lits_2016_selected_clean.sample(frac=1,replace=False)\n",
    "\n",
    "# Assign parts of the shuffled dataframe to training and test sets\n",
    "train_lits_2016 = lits_2016_selected_clean_shuffled.iloc[:num_train,:].copy()\n",
    "test_lits_2016 = lits_2016_selected_clean_shuffled.iloc[num_train:,:].copy()\n",
    "print(\"Training set:\\t\", len(train_lits_2016), \"examples\")\n",
    "print(\"Test set:\\t\", len(test_lits_2016), \"examples\")"
   ]
  },
  {
   "source": [
    "44% - for Political system on the basis of Age - TV Time Yesterday  \n",
    "45% - for Political system on the basis of Education Level - TV Time Yesterday"
   ],
   "cell_type": "markdown",
   "metadata": {}
  },
  {
   "cell_type": "code",
   "execution_count": 11,
   "metadata": {},
   "outputs": [],
   "source": [
    "# sel_test_feat = test_lits_2016.loc[:,'Age':'Political System']\n",
    "# sel_train_feat = train_lits_2016.loc[:,'Age':'Political System']\n",
    "sel_test_feat = test_lits_2016.loc[:,'Education Level':'Political System']\n",
    "sel_train_feat = train_lits_2016.loc[:,'Education Level':'Political System']"
   ]
  },
  {
   "cell_type": "code",
   "execution_count": 12,
   "metadata": {},
   "outputs": [
    {
     "output_type": "execute_result",
     "data": {
      "text/plain": [
       "       Education Level  Books Growing Up  Trust in People  Risktaking  \\\n",
       "15002                5                 5              4.0        10.0   \n",
       "41378                2                 1              3.0         8.0   \n",
       "24485                6                 3              1.0        10.0   \n",
       "38119                5                 5              2.0         2.0   \n",
       "4035                 4                 1              3.0         4.0   \n",
       "\n",
       "       State of Health  TV News  Social Media News  TV Time Yesterday  \\\n",
       "15002              3.0      6.0                7.0                5.0   \n",
       "41378              2.0      1.0                1.0                1.0   \n",
       "24485              2.0      6.0                7.0                2.0   \n",
       "38119              3.0      5.0                1.0                3.0   \n",
       "4035               3.0      4.0                2.0                2.0   \n",
       "\n",
       "       Political System  \n",
       "15002               3.0  \n",
       "41378               3.0  \n",
       "24485               1.0  \n",
       "38119               1.0  \n",
       "4035                3.0  "
      ],
      "text/html": "<div>\n<style scoped>\n    .dataframe tbody tr th:only-of-type {\n        vertical-align: middle;\n    }\n\n    .dataframe tbody tr th {\n        vertical-align: top;\n    }\n\n    .dataframe thead th {\n        text-align: right;\n    }\n</style>\n<table border=\"1\" class=\"dataframe\">\n  <thead>\n    <tr style=\"text-align: right;\">\n      <th></th>\n      <th>Education Level</th>\n      <th>Books Growing Up</th>\n      <th>Trust in People</th>\n      <th>Risktaking</th>\n      <th>State of Health</th>\n      <th>TV News</th>\n      <th>Social Media News</th>\n      <th>TV Time Yesterday</th>\n      <th>Political System</th>\n    </tr>\n  </thead>\n  <tbody>\n    <tr>\n      <th>15002</th>\n      <td>5</td>\n      <td>5</td>\n      <td>4.0</td>\n      <td>10.0</td>\n      <td>3.0</td>\n      <td>6.0</td>\n      <td>7.0</td>\n      <td>5.0</td>\n      <td>3.0</td>\n    </tr>\n    <tr>\n      <th>41378</th>\n      <td>2</td>\n      <td>1</td>\n      <td>3.0</td>\n      <td>8.0</td>\n      <td>2.0</td>\n      <td>1.0</td>\n      <td>1.0</td>\n      <td>1.0</td>\n      <td>3.0</td>\n    </tr>\n    <tr>\n      <th>24485</th>\n      <td>6</td>\n      <td>3</td>\n      <td>1.0</td>\n      <td>10.0</td>\n      <td>2.0</td>\n      <td>6.0</td>\n      <td>7.0</td>\n      <td>2.0</td>\n      <td>1.0</td>\n    </tr>\n    <tr>\n      <th>38119</th>\n      <td>5</td>\n      <td>5</td>\n      <td>2.0</td>\n      <td>2.0</td>\n      <td>3.0</td>\n      <td>5.0</td>\n      <td>1.0</td>\n      <td>3.0</td>\n      <td>1.0</td>\n    </tr>\n    <tr>\n      <th>4035</th>\n      <td>4</td>\n      <td>1</td>\n      <td>3.0</td>\n      <td>4.0</td>\n      <td>3.0</td>\n      <td>4.0</td>\n      <td>2.0</td>\n      <td>2.0</td>\n      <td>3.0</td>\n    </tr>\n  </tbody>\n</table>\n</div>"
     },
     "metadata": {},
     "execution_count": 12
    }
   ],
   "source": [
    "sel_test_feat.head()"
   ]
  },
  {
   "cell_type": "code",
   "execution_count": 15,
   "metadata": {},
   "outputs": [
    {
     "output_type": "execute_result",
     "data": {
      "text/plain": [
       "       Education Level  Books Growing Up  Trust in People  Risktaking  \\\n",
       "18463                3                 2              4.0         6.0   \n",
       "38589                7                 2              4.0         3.0   \n",
       "51069                5                 1              1.0        10.0   \n",
       "5410                 5                 3              3.0         4.0   \n",
       "46745                4                 1              4.0         6.0   \n",
       "...                ...               ...              ...         ...   \n",
       "42454                3                 2              2.0         2.0   \n",
       "7016                 4                 3              1.0         8.0   \n",
       "11524                4                 2              4.0         8.0   \n",
       "31328                8                 5              4.0         5.0   \n",
       "35985                5                 2              3.0         7.0   \n",
       "\n",
       "       State of Health  TV News  Social Media News  TV Time Yesterday  \\\n",
       "18463              2.0      1.0                7.0                0.0   \n",
       "38589              2.0      5.0                1.0                1.0   \n",
       "51069              2.0      6.0                1.0                1.0   \n",
       "5410               3.0      1.0                7.0                3.0   \n",
       "46745              3.0      5.0                5.0                4.0   \n",
       "...                ...      ...                ...                ...   \n",
       "42454              2.0      1.0                1.0                3.0   \n",
       "7016               3.0      6.0                6.0                7.0   \n",
       "11524              2.0      5.0                1.0                2.0   \n",
       "31328              2.0      6.0                7.0                0.0   \n",
       "35985              2.0      7.0                7.0                6.0   \n",
       "\n",
       "       Political System   Distance  \n",
       "18463               1.0   8.944272  \n",
       "38589               1.0  10.770330  \n",
       "51069               1.0   8.831761  \n",
       "5410                1.0   8.366600  \n",
       "46745               1.0   6.244998  \n",
       "...                 ...        ...  \n",
       "42454               1.0  12.124356  \n",
       "7016                3.0   4.795832  \n",
       "11524               1.0   7.810250  \n",
       "31328               1.0   7.745967  \n",
       "35985               3.0   4.690416  \n",
       "\n",
       "[26233 rows x 10 columns]"
      ],
      "text/html": "<div>\n<style scoped>\n    .dataframe tbody tr th:only-of-type {\n        vertical-align: middle;\n    }\n\n    .dataframe tbody tr th {\n        vertical-align: top;\n    }\n\n    .dataframe thead th {\n        text-align: right;\n    }\n</style>\n<table border=\"1\" class=\"dataframe\">\n  <thead>\n    <tr style=\"text-align: right;\">\n      <th></th>\n      <th>Education Level</th>\n      <th>Books Growing Up</th>\n      <th>Trust in People</th>\n      <th>Risktaking</th>\n      <th>State of Health</th>\n      <th>TV News</th>\n      <th>Social Media News</th>\n      <th>TV Time Yesterday</th>\n      <th>Political System</th>\n      <th>Distance</th>\n    </tr>\n  </thead>\n  <tbody>\n    <tr>\n      <th>18463</th>\n      <td>3</td>\n      <td>2</td>\n      <td>4.0</td>\n      <td>6.0</td>\n      <td>2.0</td>\n      <td>1.0</td>\n      <td>7.0</td>\n      <td>0.0</td>\n      <td>1.0</td>\n      <td>8.944272</td>\n    </tr>\n    <tr>\n      <th>38589</th>\n      <td>7</td>\n      <td>2</td>\n      <td>4.0</td>\n      <td>3.0</td>\n      <td>2.0</td>\n      <td>5.0</td>\n      <td>1.0</td>\n      <td>1.0</td>\n      <td>1.0</td>\n      <td>10.770330</td>\n    </tr>\n    <tr>\n      <th>51069</th>\n      <td>5</td>\n      <td>1</td>\n      <td>1.0</td>\n      <td>10.0</td>\n      <td>2.0</td>\n      <td>6.0</td>\n      <td>1.0</td>\n      <td>1.0</td>\n      <td>1.0</td>\n      <td>8.831761</td>\n    </tr>\n    <tr>\n      <th>5410</th>\n      <td>5</td>\n      <td>3</td>\n      <td>3.0</td>\n      <td>4.0</td>\n      <td>3.0</td>\n      <td>1.0</td>\n      <td>7.0</td>\n      <td>3.0</td>\n      <td>1.0</td>\n      <td>8.366600</td>\n    </tr>\n    <tr>\n      <th>46745</th>\n      <td>4</td>\n      <td>1</td>\n      <td>4.0</td>\n      <td>6.0</td>\n      <td>3.0</td>\n      <td>5.0</td>\n      <td>5.0</td>\n      <td>4.0</td>\n      <td>1.0</td>\n      <td>6.244998</td>\n    </tr>\n    <tr>\n      <th>...</th>\n      <td>...</td>\n      <td>...</td>\n      <td>...</td>\n      <td>...</td>\n      <td>...</td>\n      <td>...</td>\n      <td>...</td>\n      <td>...</td>\n      <td>...</td>\n      <td>...</td>\n    </tr>\n    <tr>\n      <th>42454</th>\n      <td>3</td>\n      <td>2</td>\n      <td>2.0</td>\n      <td>2.0</td>\n      <td>2.0</td>\n      <td>1.0</td>\n      <td>1.0</td>\n      <td>3.0</td>\n      <td>1.0</td>\n      <td>12.124356</td>\n    </tr>\n    <tr>\n      <th>7016</th>\n      <td>4</td>\n      <td>3</td>\n      <td>1.0</td>\n      <td>8.0</td>\n      <td>3.0</td>\n      <td>6.0</td>\n      <td>6.0</td>\n      <td>7.0</td>\n      <td>3.0</td>\n      <td>4.795832</td>\n    </tr>\n    <tr>\n      <th>11524</th>\n      <td>4</td>\n      <td>2</td>\n      <td>4.0</td>\n      <td>8.0</td>\n      <td>2.0</td>\n      <td>5.0</td>\n      <td>1.0</td>\n      <td>2.0</td>\n      <td>1.0</td>\n      <td>7.810250</td>\n    </tr>\n    <tr>\n      <th>31328</th>\n      <td>8</td>\n      <td>5</td>\n      <td>4.0</td>\n      <td>5.0</td>\n      <td>2.0</td>\n      <td>6.0</td>\n      <td>7.0</td>\n      <td>0.0</td>\n      <td>1.0</td>\n      <td>7.745967</td>\n    </tr>\n    <tr>\n      <th>35985</th>\n      <td>5</td>\n      <td>2</td>\n      <td>3.0</td>\n      <td>7.0</td>\n      <td>2.0</td>\n      <td>7.0</td>\n      <td>7.0</td>\n      <td>6.0</td>\n      <td>3.0</td>\n      <td>4.690416</td>\n    </tr>\n  </tbody>\n</table>\n<p>26233 rows × 10 columns</p>\n</div>"
     },
     "metadata": {},
     "execution_count": 15
    }
   ],
   "source": [
    "sel_train_feat_with_dist = uf.distances(sel_train_feat, sel_test_feat.iloc[0],'Political System')\n",
    "sel_train_feat_with_dist"
   ]
  },
  {
   "cell_type": "code",
   "execution_count": 17,
   "metadata": {},
   "outputs": [
    {
     "output_type": "stream",
     "name": "stdout",
     "text": [
      "First test row classification: 3.0\n5-NN classification: 1.0\n"
     ]
    }
   ],
   "source": [
    "# What is the actual example classification\n",
    "print('First test row classification: {}'.format(sel_test_feat.iloc[0,-1]))\n",
    "\n",
    "# Prediction based on the classification\n",
    "# print('5-NN classification: {}'.format(predict_nn(sel_test_feat.iloc[0])))\n",
    "print('5-NN classification: {}'.format(uf.predict_nn(sel_test_feat.iloc[0], sel_train_feat, 15, 'Political System')))"
   ]
  },
  {
   "cell_type": "code",
   "execution_count": 18,
   "metadata": {},
   "outputs": [
    {
     "output_type": "execute_result",
     "data": {
      "text/plain": [
       "       Education Level  Books Growing Up  Trust in People  Risktaking  \\\n",
       "15002                5                 5              4.0        10.0   \n",
       "41378                2                 1              3.0         8.0   \n",
       "24485                6                 3              1.0        10.0   \n",
       "38119                5                 5              2.0         2.0   \n",
       "4035                 4                 1              3.0         4.0   \n",
       "24839                3                 1              1.0         2.0   \n",
       "14515                4                 1              4.0         7.0   \n",
       "17038                8                 3              2.0         3.0   \n",
       "40252                7                 4              1.0         6.0   \n",
       "50511                5                 1              4.0         5.0   \n",
       "\n",
       "       State of Health  TV News  Social Media News  TV Time Yesterday  \\\n",
       "15002              3.0      6.0                7.0                5.0   \n",
       "41378              2.0      1.0                1.0                1.0   \n",
       "24485              2.0      6.0                7.0                2.0   \n",
       "38119              3.0      5.0                1.0                3.0   \n",
       "4035               3.0      4.0                2.0                2.0   \n",
       "24839              3.0      5.0                1.0                4.0   \n",
       "14515              4.0      1.0                1.0               14.0   \n",
       "17038              2.0      2.0                2.0                2.0   \n",
       "40252              3.0      1.0                7.0                0.0   \n",
       "50511              2.0      6.0                1.0                0.0   \n",
       "\n",
       "       Political System  Guesses  \n",
       "15002               3.0      1.0  \n",
       "41378               3.0      1.0  \n",
       "24485               1.0      1.0  \n",
       "38119               1.0      2.0  \n",
       "4035                3.0      2.0  \n",
       "24839               2.0      3.0  \n",
       "14515               2.0      1.0  \n",
       "17038               1.0      1.0  \n",
       "40252               3.0      1.0  \n",
       "50511               1.0      1.0  "
      ],
      "text/html": "<div>\n<style scoped>\n    .dataframe tbody tr th:only-of-type {\n        vertical-align: middle;\n    }\n\n    .dataframe tbody tr th {\n        vertical-align: top;\n    }\n\n    .dataframe thead th {\n        text-align: right;\n    }\n</style>\n<table border=\"1\" class=\"dataframe\">\n  <thead>\n    <tr style=\"text-align: right;\">\n      <th></th>\n      <th>Education Level</th>\n      <th>Books Growing Up</th>\n      <th>Trust in People</th>\n      <th>Risktaking</th>\n      <th>State of Health</th>\n      <th>TV News</th>\n      <th>Social Media News</th>\n      <th>TV Time Yesterday</th>\n      <th>Political System</th>\n      <th>Guesses</th>\n    </tr>\n  </thead>\n  <tbody>\n    <tr>\n      <th>15002</th>\n      <td>5</td>\n      <td>5</td>\n      <td>4.0</td>\n      <td>10.0</td>\n      <td>3.0</td>\n      <td>6.0</td>\n      <td>7.0</td>\n      <td>5.0</td>\n      <td>3.0</td>\n      <td>1.0</td>\n    </tr>\n    <tr>\n      <th>41378</th>\n      <td>2</td>\n      <td>1</td>\n      <td>3.0</td>\n      <td>8.0</td>\n      <td>2.0</td>\n      <td>1.0</td>\n      <td>1.0</td>\n      <td>1.0</td>\n      <td>3.0</td>\n      <td>1.0</td>\n    </tr>\n    <tr>\n      <th>24485</th>\n      <td>6</td>\n      <td>3</td>\n      <td>1.0</td>\n      <td>10.0</td>\n      <td>2.0</td>\n      <td>6.0</td>\n      <td>7.0</td>\n      <td>2.0</td>\n      <td>1.0</td>\n      <td>1.0</td>\n    </tr>\n    <tr>\n      <th>38119</th>\n      <td>5</td>\n      <td>5</td>\n      <td>2.0</td>\n      <td>2.0</td>\n      <td>3.0</td>\n      <td>5.0</td>\n      <td>1.0</td>\n      <td>3.0</td>\n      <td>1.0</td>\n      <td>2.0</td>\n    </tr>\n    <tr>\n      <th>4035</th>\n      <td>4</td>\n      <td>1</td>\n      <td>3.0</td>\n      <td>4.0</td>\n      <td>3.0</td>\n      <td>4.0</td>\n      <td>2.0</td>\n      <td>2.0</td>\n      <td>3.0</td>\n      <td>2.0</td>\n    </tr>\n    <tr>\n      <th>24839</th>\n      <td>3</td>\n      <td>1</td>\n      <td>1.0</td>\n      <td>2.0</td>\n      <td>3.0</td>\n      <td>5.0</td>\n      <td>1.0</td>\n      <td>4.0</td>\n      <td>2.0</td>\n      <td>3.0</td>\n    </tr>\n    <tr>\n      <th>14515</th>\n      <td>4</td>\n      <td>1</td>\n      <td>4.0</td>\n      <td>7.0</td>\n      <td>4.0</td>\n      <td>1.0</td>\n      <td>1.0</td>\n      <td>14.0</td>\n      <td>2.0</td>\n      <td>1.0</td>\n    </tr>\n    <tr>\n      <th>17038</th>\n      <td>8</td>\n      <td>3</td>\n      <td>2.0</td>\n      <td>3.0</td>\n      <td>2.0</td>\n      <td>2.0</td>\n      <td>2.0</td>\n      <td>2.0</td>\n      <td>1.0</td>\n      <td>1.0</td>\n    </tr>\n    <tr>\n      <th>40252</th>\n      <td>7</td>\n      <td>4</td>\n      <td>1.0</td>\n      <td>6.0</td>\n      <td>3.0</td>\n      <td>1.0</td>\n      <td>7.0</td>\n      <td>0.0</td>\n      <td>3.0</td>\n      <td>1.0</td>\n    </tr>\n    <tr>\n      <th>50511</th>\n      <td>5</td>\n      <td>1</td>\n      <td>4.0</td>\n      <td>5.0</td>\n      <td>2.0</td>\n      <td>6.0</td>\n      <td>1.0</td>\n      <td>0.0</td>\n      <td>1.0</td>\n      <td>1.0</td>\n    </tr>\n  </tbody>\n</table>\n</div>"
     },
     "metadata": {},
     "execution_count": 18
    }
   ],
   "source": [
    "# Run the classifier on all the test values\n",
    "# sel_test_feat['Guesses'] = sel_test_feat.apply(predict_nn, axis = 1)\n",
    "sel_test_feat['Guesses'] = sel_test_feat.apply(uf.predict_nn,args=(sel_train_feat, 15, 'Political System'), axis = 1)\n",
    "sel_test_feat.head(10)"
   ]
  },
  {
   "cell_type": "code",
   "execution_count": 19,
   "metadata": {},
   "outputs": [
    {
     "output_type": "stream",
     "name": "stdout",
     "text": [
      "The 5-NN classifier using 8 features is 46.4166 % accurate\n"
     ]
    }
   ],
   "source": [
    "proportion_correct = np.count_nonzero(sel_test_feat['Guesses']== sel_test_feat['Political System'])\n",
    "proportion_correct = proportion_correct/len(sel_test_feat) \n",
    "print('The 5-NN classifier using 8 features is {:2.4f} % accurate'.format(proportion_correct*100))"
   ]
  },
  {
   "source": [
    "Let's have a look at the different features"
   ],
   "cell_type": "markdown",
   "metadata": {}
  }
 ]
}