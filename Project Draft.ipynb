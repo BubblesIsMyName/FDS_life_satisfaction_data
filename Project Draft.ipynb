{
 "cells": [
  {
   "cell_type": "markdown",
   "metadata": {},
   "source": [
    "# Life Satisfaction and Political Views in the Ex-Soviet Bloc"
   ]
  },
  {
   "cell_type": "markdown",
   "metadata": {},
   "source": [
    "## Part 1: Replication\n",
    "## a) Life Satisfaction"
   ]
  },
  {
   "cell_type": "markdown",
   "metadata": {},
   "source": [
    "In the first part of this project, we attempt to replicate the life satisfaction results by country and region that were stated in the Life in Transition III Report (hereafter LiT III Report). Here, life satisfaction in a country was defined as the percentage of respondents in that country who either \"agree\" or \"strongly agree\" with the statement \"all things considered, I am satisfied with my life now\" (EBRD, 2016, p. 12). Each response was survey-weighted; regional averages are \"simple averages of the country scores\" (ibid.)."
   ]
  },
  {
   "cell_type": "markdown",
   "metadata": {},
   "source": [
    "In the report, the life satisfaction levels were presented in a bar chart and reported in individual country profiles. Below is the bar chart. "
   ]
  },
  {
   "cell_type": "code",
   "execution_count": null,
   "metadata": {},
   "outputs": [],
   "source": [
    "from IPython.display import Image\n",
    "# life_satisfaction_orig_chart = Image(\"Life Satisfaction Chart.png\")\n",
    "life_satisfaction_orig_chart = Image(\"./data/Life Satisfaction Chart.png\") # linux - repo folder\n",
    "life_satisfaction_orig_chart"
   ]
  },
  {
   "cell_type": "markdown",
   "metadata": {},
   "source": [
    "And below we build a dataframe with the life satisfaction levels as gleaned from the individual country profiles and/or the above chart, rounded to 2 sf. These are the life satisfaction data that we will try to replicate. Note. The life satisfaction result for the Czech Republic was not stated in the report. "
   ]
  },
  {
   "cell_type": "code",
   "execution_count": null,
   "metadata": {},
   "outputs": [],
   "source": [
    "import numpy as np\n",
    "import pandas as pd\n",
    "pd.set_option('mode.chained_assignment', 'raise')\n",
    "import matplotlib.pyplot as plt\n",
    "plt.style.use('fivethirtyeight')\n",
    "%matplotlib inline\n",
    "\n",
    "# Suppress warning about mixed data types in columns (change this later?)\n",
    "import warnings\n",
    "warnings.filterwarnings('ignore')"
   ]
  },
  {
   "cell_type": "code",
   "execution_count": null,
   "metadata": {},
   "outputs": [],
   "source": [
    "import useful_fun as uf"
   ]
  },
  {
   "cell_type": "markdown",
   "metadata": {},
   "source": [
    "To build the dataframe, region definitions used in the report are given."
   ]
  },
  {
   "cell_type": "code",
   "execution_count": null,
   "metadata": {},
   "outputs": [],
   "source": [
    "# Defined in usefu_fun\n",
    "regions = uf.Regions()"
   ]
  },
  {
   "cell_type": "markdown",
   "metadata": {},
   "source": [
    "And recoding functions are defined using the above region definitions."
   ]
  },
  {
   "cell_type": "code",
   "execution_count": null,
   "metadata": {},
   "outputs": [],
   "source": [
    "original_satisfaction = pd.DataFrame()\n",
    "original_satisfaction['Country'] = regions.allCountries\n",
    "original_satisfaction['Transition'] = original_satisfaction['Country'].apply(uf.transition_recoder)\n",
    "original_satisfaction['Region'] = original_satisfaction['Country'].apply(uf.region_recoder)\n",
    "original_satisfaction['Life Satisfaction (%)'] = [48, 30, 53, 41, 40, 37, 56, 48, 71, 35, 42, 73, 24, 33, 43, 67, 43, 75, 64, 56, 24, 55, 46, 58, 45, 32, 46, 50, 69, 75, 42, 26, 93]\n",
    "original_satisfaction.head()"
   ]
  },
  {
   "cell_type": "markdown",
   "metadata": {},
   "source": [
    "Now we calculate the mean life satisfactions for the transition and western European regions."
   ]
  },
  {
   "cell_type": "code",
   "execution_count": null,
   "metadata": {},
   "outputs": [],
   "source": [
    "# Calculate the mean life satisfaction in the transition region.\n",
    "transition_original_satisfaction = np.mean(original_satisfaction[original_satisfaction['Transition'] == True]['Life Satisfaction (%)'])\n",
    "print('Transition region life satisfaction: ' + str(round(transition_original_satisfaction)) + '%')"
   ]
  },
  {
   "cell_type": "code",
   "execution_count": null,
   "metadata": {},
   "outputs": [],
   "source": [
    "# Calculate the mean life satisfaction in western Europe.\n",
    "w_europe_original_satisfaction = np.mean(original_satisfaction[original_satisfaction['Region'] == 'W Europe']['Life Satisfaction (%)'])\n",
    "print('Western Europe life satisfaction: ' + str(round(w_europe_original_satisfaction)) + '%')"
   ]
  },
  {
   "source": [
    "## Replication of the Life satisfaction data"
   ],
   "cell_type": "markdown",
   "metadata": {}
  },
  {
   "cell_type": "markdown",
   "metadata": {},
   "source": [
    "For replication, we load the original data from a .csv file. 'Weight 1' refers to the weight of a respondent's answers as a proportion of 1, where 1 represents the total weight of a country's respondents. Note. The total country weight does not always sum to 1 due to a precision cut-off in the .csv file."
   ]
  },
  {
   "source": [
    "### Load the dataframe"
   ],
   "cell_type": "markdown",
   "metadata": {}
  },
  {
   "cell_type": "code",
   "execution_count": null,
   "metadata": {},
   "outputs": [],
   "source": [
    "# Extract the the zipped csv data\n",
    "import zipfile\n",
    "with zipfile.ZipFile(\"./data/LiTS_III_2016.zip\",\"r\") as zip_ref:\n",
    "    zip_ref.extractall(\"./data/\")"
   ]
  },
  {
   "cell_type": "code",
   "execution_count": null,
   "metadata": {},
   "outputs": [],
   "source": [
    "# Read the table\n",
    "lits_2016 = pd.read_csv('./data/LiTS_III_2016.csv') # data in the repo folder linux\n",
    "# lits_2016 = pd.read_csv('LiTS III.csv')\n",
    "# Select only the columns we're interested in (can increase this as we go along)\n",
    "lits_2016_full = lits_2016\n",
    "good_cols = ['country', 'age_pr', 'weight_sample', 'weight_one', 'q401e', 'q412', 'q421', 'q223']\n",
    "lits_2016 = lits_2016.loc[:, good_cols]\n",
    "# Give the columns new names\n",
    "good_names = ['Country', 'Age', 'Weight Sample', 'Weight 1', 'Life Satisfaction', 'Political System', 'Inequality', 'Monthly Income']\n",
    "lits_2016.columns = good_names\n",
    "lits_2016.head()"
   ]
  },
  {
   "cell_type": "markdown",
   "metadata": {},
   "source": [
    "### Define the exclusions and criteria for replication."
   ]
  },
  {
   "cell_type": "code",
   "execution_count": null,
   "metadata": {},
   "outputs": [],
   "source": [
    "# Define exclusions and criteria.\n",
    "\n",
    "# We want to exclude those rows for which life satisfaction is NaN, -97 ('don't know'), or -98 ('not applicable')\n",
    "satisfaction_exclusions = [np.nan, -97, -98]\n",
    "\n",
    "# We want to use those rows for which the answer to the life satisfaction statement was either 'agree' (4) or 'strongly agree' (5)\n",
    "satisfaction_criteria = [4, 5]"
   ]
  },
  {
   "cell_type": "code",
   "execution_count": null,
   "metadata": {},
   "outputs": [],
   "source": [
    "replicated_satisfaction = pd.DataFrame()\n",
    "replicated_satisfaction[['Country', 'Transition', 'Region']] = original_satisfaction[['Country', 'Transition', 'Region']]\n",
    "replicated_satisfaction['Life Satisfaction (%)'] = replicated_satisfaction['Country'].apply(uf.calc_mean_percentage, args=(lits_2016, 'Life Satisfaction', satisfaction_exclusions, satisfaction_criteria)).round(1)\n",
    "replicated_satisfaction.head()"
   ]
  },
  {
   "cell_type": "code",
   "execution_count": null,
   "metadata": {},
   "outputs": [],
   "source": [
    "# See the differences between the original and replication dataframes.\n",
    "differences_satisfaction = pd.DataFrame()\n",
    "differences_satisfaction['Country'] = regions.allCountries\n",
    "differences_satisfaction['Life Satisfaction Differences (%)'] = (replicated_satisfaction['Life Satisfaction (%)'] - original_satisfaction['Life Satisfaction (%)']).round()\n",
    "differences_satisfaction.head()"
   ]
  },
  {
   "cell_type": "markdown",
   "metadata": {},
   "source": [
    "All countries' results, save for Germany's and Italy's, were replicated. For Germany and Italy, the results were 1 percentage point off in each case, which may be due to typos in the report."
   ]
  },
  {
   "cell_type": "code",
   "execution_count": null,
   "metadata": {
    "scrolled": true
   },
   "outputs": [],
   "source": [
    "# Calculate the mean life satisfaction in the transition region.\n",
    "transition_replicated_satisfaction = np.mean(replicated_satisfaction[replicated_satisfaction['Transition'] == True]['Life Satisfaction (%)'])\n",
    "print('Transition region life satisfaction: ' + str(round(transition_replicated_satisfaction)) + '%')"
   ]
  },
  {
   "cell_type": "code",
   "execution_count": null,
   "metadata": {},
   "outputs": [],
   "source": [
    "# Calculate the mean life satisfaction in western Europe.\n",
    "w_europe_replicated_satisfaction = np.mean(replicated_satisfaction[replicated_satisfaction['Region'] == 'W Europe']['Life Satisfaction (%)'])\n",
    "print('Western Europe life satisfaction: ' + str(round(w_europe_replicated_satisfaction)) + '%')"
   ]
  },
  {
   "cell_type": "markdown",
   "metadata": {},
   "source": [
    "The mean life satisfaction for the transition region as a whole was replicated. Due to the differences between the original and replicated results for Germany and Italy, the result for western Europe in the replication was also slightly lower than originally stated."
   ]
  },
  {
   "cell_type": "code",
   "execution_count": null,
   "metadata": {
    "scrolled": true
   },
   "outputs": [],
   "source": [
    "# Plot the replication results\n",
    "satisfaction_for_plot = replicated_satisfaction.sort_values(by=['Region', 'Life Satisfaction (%)'], ascending=[True,False])\n",
    "plt.bar(satisfaction_for_plot['Country'], satisfaction_for_plot['Life Satisfaction (%)']);\n",
    "plt.ylim(0, 100)\n",
    "plt.xlabel('Country')\n",
    "plt.ylabel('Proportion of respondents who were satisfied (%)')\n",
    "plt.xticks(rotation = 90);\n",
    "plt.yticks(np.arange(0, 101, step = 10));"
   ]
  },
  {
   "cell_type": "markdown",
   "metadata": {},
   "source": [
    "**Note. Ideally, we would keep the same order of the regions in this bar chart as the original bar chart. Need to figure out how to do this.**"
   ]
  },
  {
   "cell_type": "markdown",
   "metadata": {},
   "source": [
    "Figure 1. Mean life satisfaction levels across countries in 2016."
   ]
  },
  {
   "cell_type": "markdown",
   "metadata": {},
   "source": [
    "## b) Political System"
   ]
  },
  {
   "cell_type": "markdown",
   "metadata": {},
   "source": [
    "Next, we try to replicate the results for political system preferences. Specifically, we find the percentage of each country's population who said that 'under some circumstances, an authoritarian government may be preferable to a democratic one'. As before, we first collate the original results in a dataframe."
   ]
  },
  {
   "cell_type": "code",
   "execution_count": null,
   "metadata": {},
   "outputs": [],
   "source": [
    "original_politics = pd.DataFrame()\n",
    "original_politics[['Country', 'Transition', 'Region']] = original_satisfaction[['Country', 'Transition', 'Region']]\n",
    "original_politics['Authoritarianism (%)'] = [31, 7, 11, 29, 27, 21, 25, 5, 20, 13, 12, np.nan, 12, 16, np.nan, 24, 18, 24, 31, 14, 26, 29, 17, 20, 22, 36, 23, 27, 19, 12, 19, 36, 7]\n",
    "original_politics.head()"
   ]
  },
  {
   "cell_type": "markdown",
   "metadata": {},
   "source": [
    "Now we calculate the mean level of preference for authoritarianism for the transition region."
   ]
  },
  {
   "cell_type": "code",
   "execution_count": null,
   "metadata": {},
   "outputs": [],
   "source": [
    "# Calculate the mean level of preference for authoritarianism in the transition region.\n",
    "transition_original_politics = np.mean(original_politics[original_politics['Transition'] == True]['Authoritarianism (%)'])\n",
    "print('Transition region preference for authoritarianism: ' + str(round(transition_original_politics)) + '%')"
   ]
  },
  {
   "cell_type": "markdown",
   "metadata": {},
   "source": [
    "There are no data in the report about support for authoritarianism in Germany and Italy individually, although the average across the two countries is around 13%, as taken from Chart 3 on p.75 of the LiT III Report (EBRD, 2016)."
   ]
  },
  {
   "cell_type": "markdown",
   "metadata": {},
   "source": [
    "We do the political system preferences replication, firstly defining the exclusions and criteria."
   ]
  },
  {
   "cell_type": "code",
   "execution_count": null,
   "metadata": {},
   "outputs": [],
   "source": [
    "# Define exclusions and criteria.\n",
    "\n",
    "# We want to exclude those rows for which political system preference is NaN or -97 ('don't know').\n",
    "politics_exclusions = [np.nan, -97]\n",
    "\n",
    "# We want to use those rows for which the answer to the political system preferences question was 'under some circumstances, an authoritarian government may be preferable to a democratic one' (2).\n",
    "politics_criteria = [2]"
   ]
  },
  {
   "cell_type": "code",
   "execution_count": null,
   "metadata": {},
   "outputs": [],
   "source": [
    "replicated_politics = pd.DataFrame()\n",
    "replicated_politics[['Country', 'Transition', 'Region']] = original_politics[['Country', 'Transition', 'Region']]\n",
    "replicated_politics['Authoritarianism (%)'] = replicated_politics['Country'].apply(uf.calc_mean_percentage, args=(lits_2016, 'Political System', politics_exclusions, politics_criteria)).round(1)\n",
    "replicated_politics.head()"
   ]
  },
  {
   "cell_type": "code",
   "execution_count": null,
   "metadata": {},
   "outputs": [],
   "source": [
    "differences_politics = pd.DataFrame()\n",
    "differences_politics['Country'] = original_politics['Country']\n",
    "differences_politics['Authoritarianism Differences (%)'] = (replicated_politics['Authoritarianism (%)'] - original_politics['Authoritarianism (%)']).round()\n",
    "differences_politics.head()"
   ]
  },
  {
   "cell_type": "code",
   "execution_count": null,
   "metadata": {
    "scrolled": true
   },
   "outputs": [],
   "source": [
    "# Calculate the mean life satisfaction in the transition region.\n",
    "transition_replicated_politics = np.mean(replicated_politics[replicated_politics['Transition'] == True]['Authoritarianism (%)'])\n",
    "print('Transition region preference for authoritarianism: ' + str(round(transition_replicated_politics)) + '%')"
   ]
  },
  {
   "cell_type": "code",
   "execution_count": null,
   "metadata": {},
   "outputs": [],
   "source": [
    "# Calculate the mean life satisfaction in western Europe.\n",
    "w_europe_replicated_politics = np.mean(replicated_politics[replicated_politics['Region'] == 'W Europe']['Authoritarianism (%)'])\n",
    "print('Western Europe preference for authoritarianism: ' + str(round(w_europe_replicated_politics)) + '%')"
   ]
  },
  {
   "cell_type": "markdown",
   "metadata": {},
   "source": [
    "All countries' and regions' results were replicated for the question of whether authoritarian government is sometimes preferable."
   ]
  },
  {
   "cell_type": "code",
   "execution_count": null,
   "metadata": {
    "scrolled": true
   },
   "outputs": [],
   "source": [
    "# Plot the replication results\n",
    "politics_for_plot = replicated_politics.sort_values(by='Authoritarianism (%)', ascending=False)\n",
    "plt.bar(politics_for_plot['Country'], politics_for_plot['Authoritarianism (%)']);\n",
    "plt.ylim(0, 100)\n",
    "plt.xlabel('Country')\n",
    "plt.ylabel('Proportion of respondents who sometimes prefer authoritarianism (%)')\n",
    "plt.xticks(rotation = 90);\n",
    "plt.yticks(np.arange(0, 101, step = 10));"
   ]
  },
  {
   "cell_type": "markdown",
   "metadata": {},
   "source": [
    "Figure 2. Mean level of preference for authoritarianism across countries in 2016."
   ]
  },
  {
   "cell_type": "markdown",
   "metadata": {},
   "source": [
    "Note. The Guardian article on the LiTS III (https://www.theguardian.com/world/2016/dec/14/unhappy-russians-nostalgic-for-soviet-style-rule-study) was inaccurate. The article stated that 'just over half the respondents from former Soviet states...thought a return to a more authoritarian system would be a plus in some circumstances'. In figure 2, however, we can see that no country had more than 50% of its respondents answer this way. We suspect that The Guardian claimed this based on an inversion of the EBRD chief economist's statement that 'in most of our countries the majority doesn't seem to prefer democracy over authoritarian rule'. However, the newspaper must not have taken into account that there were two other response options, namely, 'don't know' and 'it does not matter whether a government is democratic or authoritarian'. We briefly test this idea below."
   ]
  },
  {
   "cell_type": "code",
   "execution_count": null,
   "metadata": {},
   "outputs": [],
   "source": [
    "# Define exclusions and criteria.\n",
    "\n",
    "# We want to exclude those rows for which political system preference is NaN.\n",
    "guardian_exclusions = [np.nan]\n",
    "\n",
    "# We want to use those rows for which the answer to the political system preferences question was either 'don't know' (-97), 'under some circumstances, an authoritarian government may be preferable to a democratic one' (2), or 'it does not matter whether a government is democratic or authoritarian' (3).\n",
    "guardian_criteria = [-97, 2, 3]"
   ]
  },
  {
   "cell_type": "code",
   "execution_count": null,
   "metadata": {},
   "outputs": [],
   "source": [
    "replicated_politics_guardian = pd.DataFrame()\n",
    "replicated_politics_guardian[['Country', 'Transition', 'Region']] = original_politics[['Country', 'Transition', 'Region']]\n",
    "replicated_politics_guardian['USSR'] = replicated_politics_guardian['Country'].apply(uf.ussr_recoder)\n",
    "replicated_politics_guardian[\"Don't know / authoritarianism / doesn't matter (%)\"] = replicated_politics_guardian['Country'].apply(uf.calc_mean_percentage, args=(lits_2016, 'Political System', guardian_exclusions, guardian_criteria)).round(1)\n",
    "replicated_politics_guardian.head()"
   ]
  },
  {
   "cell_type": "code",
   "execution_count": null,
   "metadata": {
    "scrolled": true
   },
   "outputs": [],
   "source": [
    "# Calculate the mean level of preference for authoritarianism or political indifference in former Soviet states.\n",
    "ussr_replicated_politics = np.mean(replicated_politics_guardian[replicated_politics_guardian['USSR'] == True][\"Don't know / authoritarianism / doesn't matter (%)\"])\n",
    "print('Preference for authoritarianism or indifference across former Soviet states: ' + str(round(ussr_replicated_politics)) + '%')"
   ]
  },
  {
   "cell_type": "markdown",
   "metadata": {},
   "source": [
    "## Part 2: Analysis"
   ]
  },
  {
   "cell_type": "markdown",
   "metadata": {},
   "source": [
    "We test whether there is a correlation between life satisfaction and preference for authoritarianism."
   ]
  },
  {
   "cell_type": "code",
   "execution_count": null,
   "metadata": {
    "scrolled": true
   },
   "outputs": [],
   "source": [
    "plt.scatter(replicated_satisfaction['Life Satisfaction (%)'], replicated_politics['Authoritarianism (%)']);\n",
    "plt.xlabel('Life Satisfaction (%)');\n",
    "plt.ylabel('Preference for authoritarianism (%)');"
   ]
  },
  {
   "cell_type": "markdown",
   "metadata": {},
   "source": [
    "Figure 3. Scatterplot of life satisfaction and preference for authoritarianism."
   ]
  },
  {
   "cell_type": "code",
   "execution_count": null,
   "metadata": {},
   "outputs": [],
   "source": [
    "def standard_units(x):\n",
    "    return (x - np.mean(x))/np.std(x)"
   ]
  },
  {
   "cell_type": "markdown",
   "metadata": {},
   "source": [
    "There is a weak negative correlation between life satisfaction and preference for authoritarianism. That is, broadly speaking, as life satisfaction increases, preference for authoritarianism tends to decrease."
   ]
  },
  {
   "cell_type": "code",
   "execution_count": null,
   "metadata": {},
   "outputs": [],
   "source": [
    "np.mean(standard_units(replicated_satisfaction['Life Satisfaction (%)']) * standard_units(replicated_politics['Authoritarianism (%)']))"
   ]
  },
  {
   "cell_type": "code",
   "execution_count": null,
   "metadata": {},
   "outputs": [],
   "source": [
    "replicated_politics[(replicated_politics['Region']=='C Europe & Baltics') & (replicated_politics['Authoritarianism (%)']>20)]"
   ]
  }
 ],
 "metadata": {
  "kernelspec": {
   "display_name": "Python 3",
   "language": "python",
   "name": "python3"
  },
  "language_info": {
   "codemirror_mode": {
    "name": "ipython",
    "version": 3
   },
   "file_extension": ".py",
   "mimetype": "text/x-python",
   "name": "python",
   "nbconvert_exporter": "python",
   "pygments_lexer": "ipython3",
   "version": "3.8.5-final"
  }
 },
 "nbformat": 4,
 "nbformat_minor": 4
}