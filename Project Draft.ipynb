{
 "cells": [
  {
   "cell_type": "markdown",
   "metadata": {},
   "source": [
    "# Life Satisfaction and Political Views in the Ex-Soviet Bloc"
   ]
  },
  {
   "cell_type": "markdown",
   "metadata": {},
   "source": [
    "## Part 1: Replication\n",
    "## a) Life Satisfaction"
   ]
  },
  {
   "cell_type": "markdown",
   "metadata": {},
   "source": [
    "In the first part of this project, we attempt to replicate the life satisfaction results by country and region that were stated in the Life in Transition III Report (hereafter LiT III Report). Here, life satisfaction in a country was defined as the percentage of respondents in that country who either \"agree\" or \"strongly agree\" with the statement \"all things considered, I am satisfied with my life now\" (EBRD, 2016, p. 12). Each response was survey-weighted; regional averages are \"simple averages of the country scores\" (ibid.)."
   ]
  },
  {
   "cell_type": "markdown",
   "metadata": {},
   "source": [
    "In the report, the life satisfaction levels were presented in a bar chart and reported in individual country profiles. Below is the bar chart. "
   ]
  },
  {
   "cell_type": "code",
   "execution_count": null,
   "metadata": {},
   "outputs": [],
   "source": [
    "from IPython.display import Image\n",
    "# life_satisfaction_orig_chart = Image(\"Life Satisfaction Chart.png\")\n",
    "life_satisfaction_orig_chart = Image(\"./data/Life Satisfaction Chart.png\") # linux - repo folder\n",
    "life_satisfaction_orig_chart"
   ]
  },
  {
   "cell_type": "markdown",
   "metadata": {},
   "source": [
    "And below we build a dataframe with the life satisfaction levels as gleaned from the individual country profiles and/or the above chart, rounded to 2 sf. These are the life satisfaction data that we will try to replicate. Note. The life satisfaction result for the Czech Republic was not stated in the report. "
   ]
  },
  {
   "cell_type": "code",
   "execution_count": null,
   "metadata": {},
   "outputs": [],
   "source": [
    "import numpy as np\n",
    "import pandas as pd\n",
    "pd.set_option('mode.chained_assignment', 'raise')\n",
    "import matplotlib.pyplot as plt\n",
    "plt.style.use('fivethirtyeight')\n",
    "%matplotlib inline\n",
    "\n",
    "# Suppress warning about mixed data types in columns (change this later?)\n",
    "import warnings\n",
    "warnings.filterwarnings('ignore')"
   ]
  },
  {
   "cell_type": "markdown",
   "metadata": {},
   "source": [
    "To build the dataframe, region definitions used in the report are given."
   ]
  },
  {
   "cell_type": "code",
   "execution_count": null,
   "metadata": {},
   "outputs": [],
   "source": [
    "# Define regions used in the report.\n",
    "\n",
    "# Firstly, is it a transition country or not?\n",
    "# The \"transition region\" as defined in the LiTS III Report. This includes Cyprus, Greece, and Turkey, which are not seen as historically part of the Eastern Bloc. This definition of \"transition region\" is used for the purposes of replication.\n",
    "transition = ['Albania', 'Armenia', 'Azerbaijan', 'Belarus', 'Bosnia and Herz.', 'Bulgaria', 'Croatia', 'Cyprus', 'Estonia', 'FYR Macedonia', 'Georgia', 'Greece', 'Hungary', 'Kazakhstan', 'Kosovo', 'Kyrgyz Rep.', 'Latvia', 'Lithuania', 'Moldova', 'Mongolia', 'Montenegro', 'Poland', 'Romania', 'Russia', 'Serbia', 'Slovak Rep.', 'Slovenia', 'Tajikistan', 'Turkey', 'Ukraine', 'Uzbekistan']\n",
    "\n",
    "# And secondly, which region does it belong to?\n",
    "# Countries of Central Asia (CA)\n",
    "ca = ['Uzbekistan', 'Tajikistan', 'Kyrgyz Rep.', 'Kazakhstan', 'Mongolia']\n",
    "# Countries in central Europe and the Baltic states (CEB)\n",
    "ceb = ['Estonia', 'Slovenia', 'Latvia', 'Poland', 'Croatia', 'Lithuania', 'Slovak Rep.', 'Hungary']\n",
    "# Countries in south-eastern Europe (SEE)\n",
    "see = ['Albania', 'Cyprus', 'Montenegro', 'Serbia', 'Romania', 'Kosovo', 'Bosnia and Herz.', 'Bulgaria', 'FYR Macedonia', 'Greece']\n",
    "# Countries in eastern Europe and the Caucasus (EEC)\n",
    "eec = ['Azerbaijan', 'Georgia', 'Belarus', 'Armenia', 'Ukraine', 'Moldova']\n",
    "# A couple of western European countries for comparison\n",
    "we = ['Germany', 'Italy']\n",
    "# Standalone countries\n",
    "standalone = ['Czech Rep.', 'Russia', 'Turkey']"
   ]
  },
  {
   "cell_type": "markdown",
   "metadata": {},
   "source": [
    "And recoding functions are defined using the above region definitions."
   ]
  },
  {
   "cell_type": "code",
   "execution_count": null,
   "metadata": {},
   "outputs": [],
   "source": [
    "def transition_recoder(country):\n",
    "    \"\"\" Return a boolean for whether a country is in the transition region or not.\n",
    "    \n",
    "    Parameters\n",
    "    ----------\n",
    "    country : string\n",
    "        The country for which it is to be determined whether it is in the transition region or not.\n",
    "    \n",
    "    Returns\n",
    "    -------\n",
    "    in_transition : boolean\n",
    "        Whether the country is in the transition region or not.\n",
    "    \"\"\"\n",
    "    \n",
    "    if country in transition:\n",
    "        in_transition = True\n",
    "    else:\n",
    "        in_transition = False\n",
    "    \n",
    "    return in_transition"
   ]
  },
  {
   "cell_type": "code",
   "execution_count": null,
   "metadata": {},
   "outputs": [],
   "source": [
    "def region_recoder(country):\n",
    "    \"\"\" Return a string that represents the region in which a country is located.\n",
    "    \n",
    "    Parameters\n",
    "    ----------\n",
    "    country : string\n",
    "        The country whose region is to be determined.\n",
    "    \n",
    "    Returns\n",
    "    -------\n",
    "    region : string\n",
    "        The region of the country.\n",
    "    \"\"\"\n",
    "    \n",
    "    \n",
    "    if country in ca:\n",
    "        region = 'C Asia'\n",
    "    elif country in ceb:\n",
    "        region = 'C Europe & Baltics'\n",
    "    elif country in see:\n",
    "        region = 'SE Europe'\n",
    "    elif country in eec:\n",
    "        region = 'E Europe & Caucasus'\n",
    "    elif country in we:\n",
    "        region = 'W Europe'\n",
    "    elif country in standalone:\n",
    "        region = country\n",
    "    \n",
    "    return region"
   ]
  },
  {
   "cell_type": "code",
   "execution_count": null,
   "metadata": {},
   "outputs": [],
   "source": [
    "all_countries = ['Albania', 'Armenia', 'Azerbaijan', 'Belarus', 'Bosnia and Herz.', 'Bulgaria', 'Croatia', 'Cyprus', 'Estonia', 'FYR Macedonia', 'Georgia', 'Germany', 'Greece', 'Hungary', 'Italy', 'Kazakhstan', 'Kosovo', 'Kyrgyz Rep.', 'Latvia', 'Lithuania', 'Moldova', 'Mongolia', 'Montenegro', 'Poland', 'Romania', 'Russia', 'Serbia', 'Slovak Rep.', 'Slovenia', 'Tajikistan', 'Turkey', 'Ukraine', 'Uzbekistan']"
   ]
  },
  {
   "cell_type": "code",
   "execution_count": null,
   "metadata": {},
   "outputs": [],
   "source": [
    "original_satisfaction = pd.DataFrame()\n",
    "original_satisfaction['Country'] = all_countries\n",
    "original_satisfaction['Transition'] = original_satisfaction['Country'].apply(transition_recoder)\n",
    "original_satisfaction['Region'] = original_satisfaction['Country'].apply(region_recoder)\n",
    "original_satisfaction['Life Satisfaction (%)'] = [48, 30, 53, 41, 40, 37, 56, 48, 71, 35, 42, 73, 24, 33, 43, 67, 43, 75, 64, 56, 24, 55, 46, 58, 45, 32, 46, 50, 69, 75, 42, 26, 93]\n",
    "original_satisfaction"
   ]
  },
  {
   "cell_type": "markdown",
   "metadata": {},
   "source": [
    "Now we calculate the mean life satisfactions for the transition and western European regions."
   ]
  },
  {
   "cell_type": "code",
   "execution_count": null,
   "metadata": {},
   "outputs": [],
   "source": [
    "# Calculate the mean life satisfaction in the transition region.\n",
    "transition_original_satisfaction = np.mean(original_satisfaction[original_satisfaction['Transition'] == True]['Life Satisfaction (%)'])\n",
    "print('Transition region life satisfaction: ' + str(round(transition_original_satisfaction)) + '%')"
   ]
  },
  {
   "cell_type": "code",
   "execution_count": null,
   "metadata": {},
   "outputs": [],
   "source": [
    "# Calculate the mean life satisfaction in western Europe.\n",
    "w_europe_original_satisfaction = np.mean(original_satisfaction[original_satisfaction['Region'] == 'W Europe']['Life Satisfaction (%)'])\n",
    "print('Western Europe life satisfaction: ' + str(round(w_europe_original_satisfaction)) + '%')"
   ]
  },
  {
   "cell_type": "markdown",
   "metadata": {},
   "source": [
    "For replication, we load the original data from a .csv file. 'Weight 1' refers to the weight of a respondent's answers as a proportion of 1, where 1 represents the total weight of a country's respondents. Note. The total country weight does not always sum to 1 due to a precision cut-off in the .csv file."
   ]
  },
  {
   "cell_type": "code",
   "execution_count": null,
   "metadata": {},
   "outputs": [],
   "source": [
    "# Read the table\n",
    "lits_2016 = pd.read_csv('./data/LiTS_III_2016.csv') # data in the repo folder linux\n",
    "# lits_2016 = pd.read_csv('LiTS III.csv')\n",
    "# Select only the columns we're interested in (can increase this as we go along)\n",
    "good_cols = ['country', 'age_pr', 'weight_sample', 'weight_one', 'q401e', 'q412', 'q421', 'q223']\n",
    "lits_2016 = lits_2016.loc[:, good_cols]\n",
    "# Give the columns new names\n",
    "good_names = ['Country', 'Age', 'Weight Sample', 'Weight 1', 'Life Satisfaction', 'Political System', 'Inequality', 'Monthly Income']\n",
    "lits_2016.columns = good_names\n",
    "lits_2016.head()"
   ]
  },
  {
   "cell_type": "markdown",
   "metadata": {},
   "source": [
    "**We may want to break down the below function into smaller functions.**"
   ]
  },
  {
   "cell_type": "code",
   "execution_count": null,
   "metadata": {},
   "outputs": [],
   "source": [
    "# Define a function that will calculate the survey-weighted life satisfaction level for each country or a group of countries.\n",
    "def calc_mean_percentage(countries, df, measure, exclusions, criteria):\n",
    "    \"\"\" Return the mean percentage of respondents in given countries who fulfilled certain criteria on a given measure.\n",
    "    \n",
    "    Paramaters\n",
    "    ----------\n",
    "    countries : array\n",
    "        Countries for which we are finding the percentage of respondents who fulfilled certain criteria.\n",
    "    df : dataframe\n",
    "        The dataframe from which we draw our results.\n",
    "    measure: string\n",
    "        The measure of interest.\n",
    "    exclusions: array\n",
    "        Values of the measure of interest that are excluded from further analysis.\n",
    "    criteria: array\n",
    "        Values of the measure of interest that are included for calculating the mean percentage.\n",
    "    \n",
    "    Returns\n",
    "    -------\n",
    "    mean_percentage : number\n",
    "        The mean percentage of respondents in given countries who fulfilled certain criteria on a given measure.\n",
    "    \n",
    "    \"\"\"\n",
    "    \n",
    "    df_overall = df.copy()\n",
    "    \n",
    "    # Clean the dataframe by removing rows with the excluded values in the measure column.\n",
    "    for i in np.arange(len(exclusions)):\n",
    "        indices = df_overall[df_overall[measure] == exclusions[i]].index\n",
    "        df_overall = df_overall.drop(indices)\n",
    "    \n",
    "    # Create a new dataframe that contains only those rows that passed the criteria on the measure column.\n",
    "    df_select = pd.DataFrame()\n",
    "    \n",
    "    for j in np.arange(len(criteria)):\n",
    "        df_select = df_select.append(df_overall.copy()[df_overall[measure] == criteria[j]])\n",
    "    \n",
    "    # If a string was passed to countries, convert it into an array.\n",
    "    if type(countries) == np.str:\n",
    "        countries = [countries]\n",
    "    \n",
    "    # Calculate the mean percentage(s).\n",
    "    percentages = np.zeros(len(countries))\n",
    "\n",
    "    for k in np.arange(len(countries)):\n",
    "        percentages[k] = np.sum(df_select[df_select['Country'] == countries[k]]['Weight 1']) / np.sum(df_overall[df_overall['Country'] == countries[k]]['Weight 1']) * 100\n",
    "    \n",
    "    mean_percentage = np.sum(percentages) / len(percentages)\n",
    "    \n",
    "    return mean_percentage"
   ]
  },
  {
   "cell_type": "markdown",
   "metadata": {},
   "source": [
    "We do the life satisfaction replication. To do this, we firstly define the exclusions and criteria."
   ]
  },
  {
   "cell_type": "code",
   "execution_count": null,
   "metadata": {},
   "outputs": [],
   "source": [
    "# Define exclusions and criteria.\n",
    "\n",
    "# We want to exclude those rows for which life satisfaction is NaN, -97 ('don't know'), or -98 ('not applicable')\n",
    "satisfaction_exclusions = [np.nan, -97, -98]\n",
    "\n",
    "# We want to use those rows for which the answer to the life satisfaction statement was either 'agree' (4) or 'strongly agree' (5)\n",
    "satisfaction_criteria = [4, 5]"
   ]
  },
  {
   "cell_type": "code",
   "execution_count": null,
   "metadata": {},
   "outputs": [],
   "source": [
    "replicated_satisfaction = pd.DataFrame()\n",
    "replicated_satisfaction[['Country', 'Transition', 'Region']] = original_satisfaction[['Country', 'Transition', 'Region']]\n",
    "replicated_satisfaction['Life Satisfaction (%)'] = replicated_satisfaction['Country'].apply(calc_mean_percentage, args=(lits_2016, 'Life Satisfaction', satisfaction_exclusions, satisfaction_criteria)).round(1)\n",
    "replicated_satisfaction"
   ]
  },
  {
   "cell_type": "code",
   "execution_count": null,
   "metadata": {},
   "outputs": [],
   "source": [
    "# See the differences between the original and replication dataframes.\n",
    "differences_satisfaction = pd.DataFrame()\n",
    "differences_satisfaction['Country'] = all_countries\n",
    "differences_satisfaction['Life Satisfaction Differences (%)'] = (replicated_satisfaction['Life Satisfaction (%)'] - original_satisfaction['Life Satisfaction (%)']).round()\n",
    "differences_satisfaction"
   ]
  },
  {
   "cell_type": "markdown",
   "metadata": {},
   "source": [
    "All countries' results, save for Germany's and Italy's, were replicated. For Germany and Italy, the results were 1 percentage point off in each case, which may be due to typos in the report."
   ]
  },
  {
   "cell_type": "code",
   "execution_count": null,
   "metadata": {
    "scrolled": true
   },
   "outputs": [],
   "source": [
    "# Calculate the mean life satisfaction in the transition region.\n",
    "transition_replicated_satisfaction = np.mean(replicated_satisfaction[replicated_satisfaction['Transition'] == True]['Life Satisfaction (%)'])\n",
    "print('Transition region life satisfaction: ' + str(round(transition_replicated_satisfaction)) + '%')"
   ]
  },
  {
   "cell_type": "code",
   "execution_count": null,
   "metadata": {},
   "outputs": [],
   "source": [
    "# Calculate the mean life satisfaction in western Europe.\n",
    "w_europe_replicated_satisfaction = np.mean(replicated_satisfaction[replicated_satisfaction['Region'] == 'W Europe']['Life Satisfaction (%)'])\n",
    "print('Western Europe life satisfaction: ' + str(round(w_europe_replicated_satisfaction)) + '%')"
   ]
  },
  {
   "cell_type": "markdown",
   "metadata": {},
   "source": [
    "The mean life satisfaction for the transition region as a whole was replicated. Due to the differences between the original and replicated results for Germany and Italy, the result for western Europe in the replication was also slightly lower than originally stated."
   ]
  },
  {
   "cell_type": "code",
   "execution_count": null,
   "metadata": {
    "scrolled": true
   },
   "outputs": [],
   "source": [
    "# Plot the replication results\n",
    "satisfaction_for_plot = replicated_satisfaction.sort_values(by=['Region', 'Life Satisfaction (%)'], ascending=[True,False])\n",
    "plt.bar(satisfaction_for_plot['Country'], satisfaction_for_plot['Life Satisfaction (%)']);\n",
    "plt.ylim(0, 100)\n",
    "plt.xlabel('Country')\n",
    "plt.ylabel('Proportion of respondents who were satisfied (%)')\n",
    "plt.xticks(rotation = 90);\n",
    "plt.yticks(np.arange(0, 101, step = 10));"
   ]
  },
  {
   "cell_type": "markdown",
   "metadata": {},
   "source": [
    "**Note. Ideally, we would keep the same order of the regions in this bar chart as the original bar chart. Need to figure out how to do this.**"
   ]
  },
  {
   "cell_type": "markdown",
   "metadata": {},
   "source": [
    "Figure 1. Mean life satisfaction levels across countries in 2016."
   ]
  },
  {
   "cell_type": "markdown",
   "metadata": {},
   "source": [
    "## b) Political System"
   ]
  },
  {
   "cell_type": "markdown",
   "metadata": {},
   "source": [
    "Next, we try to replicate the results for political system preferences. Specifically, we find the percentage of each country's population who said that 'under some circumstances, an authoritarian government may be preferable to a democratic one'. As before, we first collate the original results in a dataframe."
   ]
  },
  {
   "cell_type": "code",
   "execution_count": null,
   "metadata": {},
   "outputs": [],
   "source": [
    "original_politics = pd.DataFrame()\n",
    "original_politics[['Country', 'Transition', 'Region']] = original_satisfaction[['Country', 'Transition', 'Region']]\n",
    "original_politics['Authoritarianism (%)'] = [31, 7, 11, 29, 27, 21, 25, 5, 20, 13, 12, np.nan, 12, 16, np.nan, 24, 18, 24, 31, 14, 26, 29, 17, 20, 22, 36, 23, 27, 19, 12, 19, 36, 7]\n",
    "original_politics"
   ]
  },
  {
   "cell_type": "markdown",
   "metadata": {},
   "source": [
    "Now we calculate the mean level of preference for authoritarianism for the transition region."
   ]
  },
  {
   "cell_type": "code",
   "execution_count": null,
   "metadata": {},
   "outputs": [],
   "source": [
    "# Calculate the mean level of preference for authoritarianism in the transition region.\n",
    "transition_original_politics = np.mean(original_politics[original_politics['Transition'] == True]['Authoritarianism (%)'])\n",
    "print('Transition region preference for authoritarianism: ' + str(round(transition_original_politics)) + '%')"
   ]
  },
  {
   "cell_type": "markdown",
   "metadata": {},
   "source": [
    "There are no data in the report about support for authoritarianism in Germany and Italy individually, although the average across the two countries is around 13%, as taken from Chart 3 on p.75 of the LiT III Report (EBRD, 2016)."
   ]
  },
  {
   "cell_type": "markdown",
   "metadata": {},
   "source": [
    "We do the political system preferences replication, firstly defining the exclusions and criteria."
   ]
  },
  {
   "cell_type": "code",
   "execution_count": null,
   "metadata": {},
   "outputs": [],
   "source": [
    "# Define exclusions and criteria.\n",
    "\n",
    "# We want to exclude those rows for which political system preference is NaN or -97 ('don't know').\n",
    "politics_exclusions = [np.nan, -97]\n",
    "\n",
    "# We want to use those rows for which the answer to the political system preferences question was 'under some circumstances, an authoritarian government may be preferable to a democratic one' (2).\n",
    "politics_criteria = [2]"
   ]
  },
  {
   "cell_type": "code",
   "execution_count": null,
   "metadata": {},
   "outputs": [],
   "source": [
    "replicated_politics = pd.DataFrame()\n",
    "replicated_politics[['Country', 'Transition', 'Region']] = original_politics[['Country', 'Transition', 'Region']]\n",
    "replicated_politics['Authoritarianism (%)'] = replicated_politics['Country'].apply(calc_mean_percentage, args=(lits_2016, 'Political System', politics_exclusions, politics_criteria)).round(1)\n",
    "replicated_politics"
   ]
  },
  {
   "cell_type": "code",
   "execution_count": null,
   "metadata": {},
   "outputs": [],
   "source": [
    "differences_politics = pd.DataFrame()\n",
    "differences_politics['Country'] = original_politics['Country']\n",
    "differences_politics['Authoritarianism Differences (%)'] = (replicated_politics['Authoritarianism (%)'] - original_politics['Authoritarianism (%)']).round()\n",
    "differences_politics"
   ]
  },
  {
   "cell_type": "code",
   "execution_count": null,
   "metadata": {
    "scrolled": true
   },
   "outputs": [],
   "source": [
    "# Calculate the mean life satisfaction in the transition region.\n",
    "transition_replicated_politics = np.mean(replicated_politics[replicated_politics['Transition'] == True]['Authoritarianism (%)'])\n",
    "print('Transition region preference for authoritarianism: ' + str(round(transition_replicated_politics)) + '%')"
   ]
  },
  {
   "cell_type": "code",
   "execution_count": null,
   "metadata": {},
   "outputs": [],
   "source": [
    "# Calculate the mean life satisfaction in western Europe.\n",
    "w_europe_replicated_politics = np.mean(replicated_politics[replicated_politics['Region'] == 'W Europe']['Authoritarianism (%)'])\n",
    "print('Western Europe preference for authoritarianism: ' + str(round(w_europe_replicated_politics)) + '%')"
   ]
  },
  {
   "cell_type": "markdown",
   "metadata": {},
   "source": [
    "All countries' and regions' results were replicated for the question of whether authoritarian government is sometimes preferable."
   ]
  },
  {
   "cell_type": "code",
   "execution_count": null,
   "metadata": {
    "scrolled": true
   },
   "outputs": [],
   "source": [
    "# Plot the replication results\n",
    "politics_for_plot = replicated_politics.sort_values(by='Authoritarianism (%)', ascending=False)\n",
    "plt.bar(politics_for_plot['Country'], politics_for_plot['Authoritarianism (%)']);\n",
    "plt.ylim(0, 100)\n",
    "plt.xlabel('Country')\n",
    "plt.ylabel('Proportion of respondents who sometimes prefer authoritarianism (%)')\n",
    "plt.xticks(rotation = 90);\n",
    "plt.yticks(np.arange(0, 101, step = 10));"
   ]
  },
  {
   "cell_type": "markdown",
   "metadata": {},
   "source": [
    "Figure 2. Mean level of preference for authoritarianism across countries in 2016."
   ]
  },
  {
   "cell_type": "markdown",
   "metadata": {},
   "source": [
    "Note. The Guardian article on the LiTS III (https://www.theguardian.com/world/2016/dec/14/unhappy-russians-nostalgic-for-soviet-style-rule-study) was inaccurate. The article stated that 'just over half the respondents from former Soviet states...thought a return to a more authoritarian system would be a plus in some circumstances'. In figure 2, however, we can see that no country had more than 50% of its respondents answer this way. We suspect that The Guardian claimed this based on an inversion of the EBRD chief economist's statement that 'in most of our countries the majority doesn't seem to prefer democracy over authoritarian rule'. However, the newspaper must not have taken into account that there were two other response options, namely, 'don't know' and 'it does not matter whether a government is democratic or authoritarian'. We briefly test this idea below."
   ]
  },
  {
   "cell_type": "code",
   "execution_count": null,
   "metadata": {},
   "outputs": [],
   "source": [
    "# Define former Soviet states.\n",
    "\n",
    "# Countries that were formerly part of the Soviet Union.\n",
    "ussr = ['Armenia', 'Azerbaijan', 'Belarus', 'Estonia', 'Georgia', 'Kazakhstan', 'Kyrgyz Rep.', 'Latvia', 'Lithuania', 'Moldova', 'Russia', 'Tajikistan', 'Turkmenistan', 'Ukraine', 'Uzbekistan']"
   ]
  },
  {
   "cell_type": "code",
   "execution_count": null,
   "metadata": {},
   "outputs": [],
   "source": [
    "def ussr_recoder(country):\n",
    "    \"\"\" Return a boolean for whether a country was in the Soviet Union or not.\n",
    "    \n",
    "    Parameters\n",
    "    ----------\n",
    "    country : string\n",
    "        The country for which it is to be determined whether it was in the Soviet Union or not.\n",
    "    \n",
    "    Returns\n",
    "    -------\n",
    "    in_ussr : boolean\n",
    "        Whether the country was in the Soviet Union or not.\n",
    "    \"\"\"\n",
    "    \n",
    "    if country in ussr:\n",
    "        in_ussr = True\n",
    "    else:\n",
    "        in_ussr = False\n",
    "    \n",
    "    return in_ussr"
   ]
  },
  {
   "cell_type": "code",
   "execution_count": null,
   "metadata": {},
   "outputs": [],
   "source": [
    "# Define exclusions and criteria.\n",
    "\n",
    "# We want to exclude those rows for which political system preference is NaN.\n",
    "guardian_exclusions = [np.nan]\n",
    "\n",
    "# We want to use those rows for which the answer to the political system preferences question was either 'don't know' (-97), 'under some circumstances, an authoritarian government may be preferable to a democratic one' (2), or 'it does not matter whether a government is democratic or authoritarian' (3).\n",
    "guardian_criteria = [-97, 2, 3]"
   ]
  },
  {
   "cell_type": "code",
   "execution_count": null,
   "metadata": {},
   "outputs": [],
   "source": [
    "replicated_politics_guardian = pd.DataFrame()\n",
    "replicated_politics_guardian[['Country', 'Transition', 'Region']] = original_politics[['Country', 'Transition', 'Region']]\n",
    "replicated_politics_guardian['USSR'] = replicated_politics_guardian['Country'].apply(ussr_recoder)\n",
    "replicated_politics_guardian[\"Don't know / authoritarianism / doesn't matter (%)\"] = replicated_politics_guardian['Country'].apply(calc_mean_percentage, args=(lits_2016, 'Political System', guardian_exclusions, guardian_criteria)).round(1)\n",
    "replicated_politics_guardian.head()"
   ]
  },
  {
   "cell_type": "code",
   "execution_count": null,
   "metadata": {
    "scrolled": true
   },
   "outputs": [],
   "source": [
    "# Calculate the mean level of preference for authoritarianism or political indifference in former Soviet states.\n",
    "ussr_replicated_politics = np.mean(replicated_politics_guardian[replicated_politics_guardian['USSR'] == True][\"Don't know / authoritarianism / doesn't matter (%)\"])\n",
    "print('Preference for authoritarianism or indifference across former Soviet states: ' + str(round(ussr_replicated_politics)) + '%')"
   ]
  },
  {
   "cell_type": "markdown",
   "metadata": {},
   "source": [
    "## Part 2: Analysis"
   ]
  },
  {
   "cell_type": "markdown",
   "metadata": {},
   "source": [
    "We test whether there is a correlation between life satisfaction and preference for authoritarianism."
   ]
  },
  {
   "cell_type": "code",
   "execution_count": null,
   "metadata": {
    "scrolled": true
   },
   "outputs": [],
   "source": [
    "plt.scatter(replicated_satisfaction['Life Satisfaction (%)'], replicated_politics['Authoritarianism (%)']);\n",
    "plt.xlabel('Life Satisfaction (%)');\n",
    "plt.ylabel('Preference for authoritarianism (%)');"
   ]
  },
  {
   "cell_type": "markdown",
   "metadata": {},
   "source": [
    "Figure 3. Scatterplot of life satisfaction and preference for authoritarianism."
   ]
  },
  {
   "cell_type": "code",
   "execution_count": null,
   "metadata": {},
   "outputs": [],
   "source": [
    "def standard_units(x):\n",
    "    return (x - np.mean(x))/np.std(x)"
   ]
  },
  {
   "cell_type": "code",
   "execution_count": null,
   "metadata": {},
   "outputs": [],
   "source": [
    "np.mean(standard_units(replicated_satisfaction['Life Satisfaction (%)']) * standard_units(replicated_politics['Authoritarianism (%)']))"
   ]
  },
  {
   "cell_type": "markdown",
   "metadata": {},
   "source": [
    "There is a weak negative correlation between life satisfaction and preference for authoritarianism. That is, broadly speaking, as life satisfaction increases, preference for authoritarianism tends to decrease."
   ]
  }
 ],
 "metadata": {
  "kernelspec": {
   "display_name": "Python 3",
   "language": "python",
   "name": "python3"
  },
  "language_info": {
   "codemirror_mode": {
    "name": "ipython",
    "version": 3
   },
   "file_extension": ".py",
   "mimetype": "text/x-python",
   "name": "python",
   "nbconvert_exporter": "python",
   "pygments_lexer": "ipython3",
   "version": "3.8.5-final"
  }
 },
 "nbformat": 4,
 "nbformat_minor": 4
}