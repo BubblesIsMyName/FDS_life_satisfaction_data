{
 "cells": [
  {
   "cell_type": "markdown",
   "metadata": {},
   "source": [
    "# Life Satisfaction and Political Views in the Ex-Soviet Bloc"
   ]
  },
  {
   "cell_type": "markdown",
   "metadata": {},
   "source": [
    "## Part 1: Replication\n",
    "## a) Life Satisfaction"
   ]
  },
  {
   "cell_type": "markdown",
   "metadata": {},
   "source": [
    "In the first part of this project, we attempt to replicate the life satisfaction results by country and region that were stated in the Life in Transition III Report (hereafter LiT III Report). Here, life satisfaction in a country was defined as the percentage of respondents in that country who either \"agree\" or \"strongly agree\" with the statement \"all things considered, I am satisfied with my life now\" (EBRD, 2016, p. 12). Each response was survey-weighted; regional averages are \"simple averages of the country scores\" (ibid.)."
   ]
  },
  {
   "cell_type": "markdown",
   "metadata": {},
   "source": [
    "In the report, the life satisfaction levels were presented in a bar chart and reported in individual country profiles. Below is the bar chart. "
   ]
  },
  {
   "cell_type": "code",
   "execution_count": null,
   "metadata": {},
   "outputs": [],
   "source": [
    "from IPython.display import Image\n",
    "# life_satisfaction_orig_chart = Image(\"Life Satisfaction Chart.png\")\n",
    "life_satisfaction_orig_chart = Image(\"./data/Life Satisfaction Chart.png\") # linux - repo folder\n",
    "life_satisfaction_orig_chart"
   ]
  },
  {
   "cell_type": "markdown",
   "metadata": {},
   "source": [
    "And below we build a dataframe with the life satisfaction levels as gleaned from the individual country profiles and/or the above chart, rounded to 2 sf. These are the life satisfaction data that we will try to replicate. Note. The life satisfaction result for the Czech Republic was not stated in the report. "
   ]
  },
  {
   "cell_type": "code",
   "execution_count": null,
   "metadata": {},
   "outputs": [],
   "source": [
    "import numpy as np\n",
    "import pandas as pd\n",
    "pd.set_option('mode.chained_assignment', 'raise')\n",
    "import matplotlib.pyplot as plt\n",
    "plt.style.use('fivethirtyeight')\n",
    "%matplotlib inline\n",
    "\n",
    "# Suppress warning about mixed data types in columns (change this later?)\n",
    "import warnings\n",
    "warnings.filterwarnings('ignore')"
   ]
  },
  {
   "cell_type": "markdown",
   "metadata": {},
   "source": [
    "To build the dataframe, region definitions used in the report are given."
   ]
  },
  {
   "cell_type": "code",
   "execution_count": null,
   "metadata": {},
   "outputs": [],
   "source": [
    "# Define regions used in the report.\n",
    "\n",
    "# Firstly, is it a transition country or not?\n",
    "# The \"transition region\" as defined in the LiTS III Report. This includes Cyprus, Greece, and Turkey, which are not seen as historically part of the Eastern Bloc. This definition of \"transition region\" is used for the purposes of replication.\n",
    "transition = ['Albania', 'Armenia', 'Azerbaijan', 'Belarus', 'Bosnia and Herz.', 'Bulgaria', 'Croatia', 'Cyprus', 'Estonia', 'FYR Macedonia', 'Georgia', 'Greece', 'Hungary', 'Kazakhstan', 'Kosovo', 'Kyrgyz Rep.', 'Latvia', 'Lithuania', 'Moldova', 'Mongolia', 'Montenegro', 'Poland', 'Romania', 'Russia', 'Serbia', 'Slovak Rep.', 'Slovenia', 'Tajikistan', 'Turkey', 'Ukraine', 'Uzbekistan']\n",
    "\n",
    "# And secondly, which region does it belong to?\n",
    "# Countries of Central Asia (CA)\n",
    "ca = ['Uzbekistan', 'Tajikistan', 'Kyrgyz Rep.', 'Kazakhstan', 'Mongolia']\n",
    "# Countries in central Europe and the Baltic states (CEB)\n",
    "ceb = ['Estonia', 'Slovenia', 'Latvia', 'Poland', 'Croatia', 'Lithuania', 'Slovak Rep.', 'Hungary']\n",
    "# Countries in south-eastern Europe (SEE)\n",
    "see = ['Albania', 'Cyprus', 'Montenegro', 'Serbia', 'Romania', 'Kosovo', 'Bosnia and Herz.', 'Bulgaria', 'FYR Macedonia', 'Greece']\n",
    "# Countries in eastern Europe and the Caucasus (EEC)\n",
    "eec = ['Azerbaijan', 'Georgia', 'Belarus', 'Armenia', 'Ukraine', 'Moldova']\n",
    "# A couple of western European countries for comparison\n",
    "we = ['Germany', 'Italy']\n",
    "# Standalone countries\n",
    "standalone = ['Czech Rep.', 'Russia', 'Turkey']"
   ]
  },
  {
   "cell_type": "markdown",
   "metadata": {},
   "source": [
    "And recoding functions are defined using the above region definitions."
   ]
  },
  {
   "cell_type": "code",
   "execution_count": null,
   "metadata": {},
   "outputs": [],
   "source": [
    "def transition_recoder(country):\n",
    "    \"\"\" Return a boolean for whether a country is in the transition region or not.\n",
    "    \n",
    "    Parameters\n",
    "    ----------\n",
    "    country : string\n",
    "        The country for which it is to be determined whether it is in the transition region or not.\n",
    "    \n",
    "    Returns\n",
    "    -------\n",
    "    in_transition : boolean\n",
    "        Whether the country is in the transition region or not.\n",
    "    \"\"\"\n",
    "    \n",
    "    if country in transition:\n",
    "        in_transition = True\n",
    "    else:\n",
    "        in_transition = False\n",
    "    \n",
    "    return in_transition"
   ]
  },
  {
   "cell_type": "code",
   "execution_count": null,
   "metadata": {},
   "outputs": [],
   "source": [
    "def region_recoder(country):\n",
    "    \"\"\" Return a string that represents the region in which a country is located.\n",
    "    \n",
    "    Parameters\n",
    "    ----------\n",
    "    country : string\n",
    "        The country whose region is to be determined.\n",
    "    \n",
    "    Returns\n",
    "    -------\n",
    "    region : string\n",
    "        The region of the country.\n",
    "    \"\"\"\n",
    "    \n",
    "    \n",
    "    if country in ca:\n",
    "        region = 'C Asia'\n",
    "    elif country in ceb:\n",
    "        region = 'C Europe & Baltics'\n",
    "    elif country in see:\n",
    "        region = 'SE Europe'\n",
    "    elif country in eec:\n",
    "        region = 'E Europe & Caucasus'\n",
    "    elif country in we:\n",
    "        region = 'W Europe'\n",
    "    elif country in standalone:\n",
    "        region = country\n",
    "    \n",
    "    return region"
   ]
  },
  {
   "cell_type": "code",
   "execution_count": null,
   "metadata": {},
   "outputs": [],
   "source": [
    "all_countries = ['Albania', 'Armenia', 'Azerbaijan', 'Belarus', 'Bosnia and Herz.', 'Bulgaria', 'Croatia', 'Cyprus', 'Estonia', 'FYR Macedonia', 'Georgia', 'Germany', 'Greece', 'Hungary', 'Italy', 'Kazakhstan', 'Kosovo', 'Kyrgyz Rep.', 'Latvia', 'Lithuania', 'Moldova', 'Mongolia', 'Montenegro', 'Poland', 'Romania', 'Russia', 'Serbia', 'Slovak Rep.', 'Slovenia', 'Tajikistan', 'Turkey', 'Ukraine', 'Uzbekistan']"
   ]
  },
  {
   "cell_type": "code",
   "execution_count": null,
   "metadata": {},
   "outputs": [],
   "source": [
    "original_satisfaction = pd.DataFrame()\n",
    "original_satisfaction['Country'] = all_countries\n",
    "original_satisfaction['Transition'] = original_satisfaction['Country'].apply(transition_recoder)\n",
    "original_satisfaction['Region'] = original_satisfaction['Country'].apply(region_recoder)\n",
    "original_satisfaction['Life Satisfaction (%)'] = [48, 30, 53, 41, 40, 37, 56, 48, 71, 35, 42, 73, 24, 33, 43, 67, 43, 75, 64, 56, 24, 55, 46, 58, 45, 32, 46, 50, 69, 75, 42, 26, 93]\n",
    "original_satisfaction"
   ]
  },
  {
   "cell_type": "markdown",
   "metadata": {},
   "source": [
    "Now we calculate the mean life satisfactions for the transition and western European regions."
   ]
  },
  {
   "cell_type": "code",
   "execution_count": null,
   "metadata": {},
   "outputs": [],
   "source": [
    "# Calculate the mean life satisfaction in the transition region.\n",
    "transition_original_satisfaction = np.mean(original_satisfaction[original_satisfaction['Transition'] == True]['Life Satisfaction (%)'])\n",
    "print('Transition region life satisfaction: ' + str(round(transition_original_satisfaction)) + '%')"
   ]
  },
  {
   "cell_type": "code",
   "execution_count": null,
   "metadata": {},
   "outputs": [],
   "source": [
    "# Calculate the mean life satisfaction in western Europe.\n",
    "w_europe_original_satisfaction = np.mean(original_satisfaction[original_satisfaction['Region'] == 'W Europe']['Life Satisfaction (%)'])\n",
    "print('Western Europe life satisfaction: ' + str(round(w_europe_original_satisfaction)) + '%')"
   ]
  },
  {
   "cell_type": "markdown",
   "metadata": {},
   "source": [
    "## Replication of the Life satisfaction data"
   ]
  },
  {
   "cell_type": "markdown",
   "metadata": {},
   "source": [
    "For replication, we load the original data from a .csv file. 'Weight 1' refers to the weight of a respondent's answers as a proportion of 1, where 1 represents the total weight of a country's respondents. Note. The total country weight does not always sum to 1 due to a precision cut-off in the .csv file."
   ]
  },
  {
   "cell_type": "code",
   "execution_count": null,
   "metadata": {},
   "outputs": [],
   "source": [
    "# Extract the the zipped csv data\n",
    "#import zipfile\n",
    "#with zipfile.ZipFile(\"./data/LiTS_III_2016.zip\",\"r\") as zip_ref:\n",
    "#    zip_ref.extractall(\"./data/\")"
   ]
  },
  {
   "cell_type": "code",
   "execution_count": null,
   "metadata": {},
   "outputs": [],
   "source": [
    "# Read the table\n",
    "lits_2016 = pd.read_csv('./data/LiTS_III_2016.csv') # data in the repo folder linux\n",
    "# lits_2016 = pd.read_csv('LiTS III.csv')\n",
    "# Select only the columns we're interested in (can increase this as we go along)\n",
    "good_cols = ['country', 'PSU_number', 'age_pr', 'weight_sample', 'weight_one', 'q401e', 'q412', 'q401c', 'q421', 'q424', 'PRq502', 'q223', 'PRq315', 'PRq316', 'PRq317', 'q923', 'q901', 'q109_1']\n",
    "lits_2016 = lits_2016.loc[:, good_cols]\n",
    "# Give the columns new names\n",
    "good_names = ['Country', 'PSU', 'Age', 'Weight Sample', 'Weight 1', 'Life Satisfaction', 'Political System', 'Parents', 'Inequality', 'Socialising', 'Employment', 'Monthly Income', 'Wealth Level', 'Past Wealth Level', 'Predicted Wealth Level', 'Ethnicity', 'Health', 'Education']\n",
    "lits_2016.columns = good_names\n",
    "lits_2016.head()"
   ]
  },
  {
   "cell_type": "code",
   "execution_count": null,
   "metadata": {},
   "outputs": [],
   "source": [
    "# Define functions that will help calculate the survey-weighted level of a measure for a country or a group of countries.\n",
    "def exclude_values(df, measure, exclusions):\n",
    "    \"\"\" Remove the rows containing values in exclusions in a certain column from a dataframe.\n",
    "    \n",
    "    Parameters\n",
    "    ----------\n",
    "    df : dataframe\n",
    "        The dataframe to be cleaned.\n",
    "    measure: string\n",
    "        The name of the column in the dataframe based on which the dataframe will be cleaned.\n",
    "    exclusions : array\n",
    "        Values of the column_name that will be removed along with their corresponding rows.\n",
    "        \n",
    "    Returns\n",
    "    -------\n",
    "    df_overall : dataframe\n",
    "        The cleaned dataframe\n",
    "    \n",
    "    \"\"\"\n",
    "    \n",
    "    df_overall = df.copy()\n",
    "    \n",
    "    for i in np.arange(len(exclusions)):\n",
    "        indices = df_overall[df_overall[measure] == exclusions[i]].index\n",
    "        df_overall = df_overall.drop(indices)\n",
    "    \n",
    "    return df_overall\n",
    "\n",
    "def include_values(df, measure, criteria):\n",
    "    \"\"\" Build a dataframe using rows from an existing dataframe that contain values in criteria in a certain column.\n",
    "    \n",
    "    Parameters\n",
    "    ----------\n",
    "    df : dataframe\n",
    "        The dataframe from which the rows will be drawn.\n",
    "    measure: string\n",
    "        The name of the column in the dataframe based on which the new dataframe will be built.\n",
    "    criteria : array\n",
    "        Values of the column_name that will be included along with their corresponding rows in the new dataframe.\n",
    "        \n",
    "    Returns\n",
    "    -------\n",
    "    df_select : dataframe\n",
    "        The built dataframe\n",
    "    \n",
    "    \"\"\"\n",
    "    \n",
    "    df_select = pd.DataFrame()\n",
    "    \n",
    "    for i in np.arange(len(criteria)):\n",
    "        df_select = df_select.append(df.copy()[df[measure] == criteria[i]])\n",
    "        \n",
    "    return df_select\n",
    "\n",
    "def calc_mean_percentage(countries, df, measure, exclusions, criteria):\n",
    "    \"\"\" Return the mean percentage of respondents in given countries who fulfilled certain criteria on a given measure.\n",
    "    \n",
    "    Paramaters\n",
    "    ----------\n",
    "    countries : array\n",
    "        Countries for which we are finding the percentage of respondents who fulfilled certain criteria.\n",
    "    df : dataframe\n",
    "        The dataframe from which we draw our results.\n",
    "    measure: string\n",
    "        The measure of interest.\n",
    "    exclusions: array\n",
    "        Values of the measure of interest that are excluded from further analysis.\n",
    "    criteria: array\n",
    "        Values of the measure of interest that are included for calculating the mean percentage.\n",
    "    \n",
    "    Returns\n",
    "    -------\n",
    "    mean_percentage : number\n",
    "        The mean percentage of respondents in given countries who fulfilled certain criteria on a given measure.\n",
    "    \n",
    "    \"\"\"\n",
    "    \n",
    "    # Clean the dataframe by removing rows with the excluded values in the measure column.\n",
    "    df_overall = exclude_values(df, measure, exclusions)\n",
    "    \n",
    "    # Create a new dataframe that contains only those rows that passed the criteria on the measure column.\n",
    "    df_select = include_values(df_overall, measure, criteria)\n",
    "    \n",
    "    # If a string was passed to countries, convert it into an array.\n",
    "    if type(countries) == np.str:\n",
    "        countries = [countries]\n",
    "    \n",
    "    # Calculate the mean percentage(s).\n",
    "    percentages = np.zeros(len(countries))\n",
    "\n",
    "    for k in np.arange(len(countries)):\n",
    "        percentages[k] = np.sum(df_select[df_select['Country'] == countries[k]]['Weight 1']) / np.sum(df_overall[df_overall['Country'] == countries[k]]['Weight 1']) * 100\n",
    "    \n",
    "    mean_percentage = np.sum(percentages) / len(percentages)\n",
    "    \n",
    "    return mean_percentage"
   ]
  },
  {
   "cell_type": "markdown",
   "metadata": {},
   "source": [
    "We do the life satisfaction replication. To do this, we firstly define the exclusions and criteria."
   ]
  },
  {
   "cell_type": "code",
   "execution_count": null,
   "metadata": {},
   "outputs": [],
   "source": [
    "# Define exclusions and criteria.\n",
    "\n",
    "# We want to exclude those rows for which life satisfaction is NaN, -97 ('don't know'), or -98 ('not applicable')\n",
    "satisfaction_exclusions = [np.nan, -97, -98]\n",
    "\n",
    "# We want to use those rows for which the answer to the life satisfaction statement was either 'agree' (4) or 'strongly agree' (5)\n",
    "satisfaction_criteria = [4, 5]"
   ]
  },
  {
   "cell_type": "code",
   "execution_count": null,
   "metadata": {},
   "outputs": [],
   "source": [
    "replicated_satisfaction = pd.DataFrame()\n",
    "replicated_satisfaction[['Country', 'Transition', 'Region']] = original_satisfaction[['Country', 'Transition', 'Region']]\n",
    "replicated_satisfaction['Life Satisfaction (%)'] = replicated_satisfaction['Country'].apply(calc_mean_percentage, args=(lits_2016, 'Life Satisfaction', satisfaction_exclusions, satisfaction_criteria))\n",
    "replicated_satisfaction"
   ]
  },
  {
   "cell_type": "code",
   "execution_count": null,
   "metadata": {},
   "outputs": [],
   "source": [
    "# See the differences between the original and replication dataframes.\n",
    "differences_satisfaction = pd.DataFrame()\n",
    "differences_satisfaction['Country'] = all_countries\n",
    "differences_satisfaction['Life Satisfaction Differences (%)'] = (replicated_satisfaction['Life Satisfaction (%)'] - original_satisfaction['Life Satisfaction (%)']).round()\n",
    "differences_satisfaction"
   ]
  },
  {
   "cell_type": "markdown",
   "metadata": {},
   "source": [
    "All countries' results, save for Germany's and Italy's, were replicated. For Germany and Italy, the results were 1 percentage point off in each case, which may be due to typos in the report."
   ]
  },
  {
   "cell_type": "code",
   "execution_count": null,
   "metadata": {
    "scrolled": true
   },
   "outputs": [],
   "source": [
    "# Calculate the mean life satisfaction in the transition region.\n",
    "transition_replicated_satisfaction = np.mean(replicated_satisfaction[replicated_satisfaction['Transition'] == True]['Life Satisfaction (%)'])\n",
    "print('Transition region life satisfaction: ' + str(round(transition_replicated_satisfaction)) + '%')"
   ]
  },
  {
   "cell_type": "code",
   "execution_count": null,
   "metadata": {},
   "outputs": [],
   "source": [
    "# Calculate the mean life satisfaction in western Europe.\n",
    "w_europe_replicated_satisfaction = np.mean(replicated_satisfaction[replicated_satisfaction['Region'] == 'W Europe']['Life Satisfaction (%)'])\n",
    "print('Western Europe life satisfaction: ' + str(round(w_europe_replicated_satisfaction)) + '%')"
   ]
  },
  {
   "cell_type": "markdown",
   "metadata": {},
   "source": [
    "The mean life satisfaction for the transition region as a whole was replicated. Due to the differences between the original and replicated results for Germany and Italy, the result for western Europe in the replication was also slightly lower than originally stated."
   ]
  },
  {
   "cell_type": "code",
   "execution_count": null,
   "metadata": {
    "scrolled": true
   },
   "outputs": [],
   "source": [
    "# Plot the replication results\n",
    "satisfaction_for_plot = replicated_satisfaction.sort_values(by=['Region', 'Life Satisfaction (%)'], ascending=[True,False])\n",
    "plt.bar(satisfaction_for_plot['Country'], satisfaction_for_plot['Life Satisfaction (%)']);\n",
    "plt.ylim(0, 100)\n",
    "plt.xlabel('Country')\n",
    "plt.ylabel('Proportion of respondents who were satisfied (%)')\n",
    "plt.xticks(rotation = 90);\n",
    "plt.yticks(np.arange(0, 101, step = 10));"
   ]
  },
  {
   "cell_type": "markdown",
   "metadata": {},
   "source": [
    "**Note. Ideally, we would keep the same order of the regions in this bar chart as the original bar chart. Need to figure out how to do this.**"
   ]
  },
  {
   "cell_type": "markdown",
   "metadata": {},
   "source": [
    "Figure 1. Mean life satisfaction levels across countries in 2016."
   ]
  },
  {
   "cell_type": "markdown",
   "metadata": {},
   "source": [
    "## b) Political System"
   ]
  },
  {
   "cell_type": "markdown",
   "metadata": {},
   "source": [
    "Next, we try to replicate the results for political system preferences. Specifically, we find the percentage of each country's population who said that 'under some circumstances, an authoritarian government may be preferable to a democratic one'. As before, we first collate the original results in a dataframe."
   ]
  },
  {
   "cell_type": "code",
   "execution_count": null,
   "metadata": {},
   "outputs": [],
   "source": [
    "original_politics = pd.DataFrame()\n",
    "original_politics[['Country', 'Transition', 'Region']] = original_satisfaction[['Country', 'Transition', 'Region']]\n",
    "original_politics['Authoritarianism (%)'] = [31, 7, 11, 29, 27, 21, 25, 5, 20, 13, 12, np.nan, 12, 16, np.nan, 24, 18, 24, 31, 14, 26, 29, 17, 20, 22, 36, 23, 27, 19, 12, 19, 36, 7]\n",
    "original_politics"
   ]
  },
  {
   "cell_type": "markdown",
   "metadata": {},
   "source": [
    "Now we calculate the mean level of preference for authoritarianism for the transition region."
   ]
  },
  {
   "cell_type": "code",
   "execution_count": null,
   "metadata": {},
   "outputs": [],
   "source": [
    "# Calculate the mean level of preference for authoritarianism in the transition region.\n",
    "transition_original_politics = np.mean(original_politics[original_politics['Transition'] == True]['Authoritarianism (%)'])\n",
    "print('Transition region preference for authoritarianism: ' + str(round(transition_original_politics)) + '%')"
   ]
  },
  {
   "cell_type": "markdown",
   "metadata": {},
   "source": [
    "There are no data in the report about support for authoritarianism in Germany and Italy individually, although the average across the two countries is around 13%, as taken from Chart 3 on p.75 of the LiT III Report (EBRD, 2016)."
   ]
  },
  {
   "cell_type": "markdown",
   "metadata": {},
   "source": [
    "We do the political system preferences replication, firstly defining the exclusions and criteria."
   ]
  },
  {
   "cell_type": "code",
   "execution_count": null,
   "metadata": {},
   "outputs": [],
   "source": [
    "# Define exclusions and criteria.\n",
    "\n",
    "# We want to exclude those rows for which political system preference is NaN or -97 ('don't know').\n",
    "politics_exclusions = [np.nan, -97]\n",
    "\n",
    "# We want to use those rows for which the answer to the political system preferences question was 'under some circumstances, an authoritarian government may be preferable to a democratic one' (2).\n",
    "politics_criteria = [2]"
   ]
  },
  {
   "cell_type": "code",
   "execution_count": null,
   "metadata": {},
   "outputs": [],
   "source": [
    "replicated_politics = pd.DataFrame()\n",
    "replicated_politics[['Country', 'Transition', 'Region']] = original_politics[['Country', 'Transition', 'Region']]\n",
    "replicated_politics['Authoritarianism (%)'] = replicated_politics['Country'].apply(calc_mean_percentage, args=(lits_2016, 'Political System', politics_exclusions, politics_criteria))\n",
    "replicated_politics"
   ]
  },
  {
   "cell_type": "code",
   "execution_count": null,
   "metadata": {},
   "outputs": [],
   "source": [
    "differences_politics = pd.DataFrame()\n",
    "differences_politics['Country'] = original_politics['Country']\n",
    "differences_politics['Authoritarianism Differences (%)'] = (replicated_politics['Authoritarianism (%)'] - original_politics['Authoritarianism (%)']).round()\n",
    "differences_politics"
   ]
  },
  {
   "cell_type": "code",
   "execution_count": null,
   "metadata": {
    "scrolled": true
   },
   "outputs": [],
   "source": [
    "# Calculate the mean life satisfaction in the transition region.\n",
    "transition_replicated_politics = np.mean(replicated_politics[replicated_politics['Transition'] == True]['Authoritarianism (%)'])\n",
    "print('Transition region preference for authoritarianism: ' + str(round(transition_replicated_politics)) + '%')"
   ]
  },
  {
   "cell_type": "code",
   "execution_count": null,
   "metadata": {},
   "outputs": [],
   "source": [
    "# Calculate the mean life satisfaction in western Europe.\n",
    "w_europe_replicated_politics = np.mean(replicated_politics[replicated_politics['Region'] == 'W Europe']['Authoritarianism (%)'])\n",
    "print('Western Europe preference for authoritarianism: ' + str(round(w_europe_replicated_politics)) + '%')"
   ]
  },
  {
   "cell_type": "markdown",
   "metadata": {},
   "source": [
    "All countries' and regions' results were replicated for the question of whether authoritarian government is sometimes preferable."
   ]
  },
  {
   "cell_type": "code",
   "execution_count": null,
   "metadata": {
    "scrolled": true
   },
   "outputs": [],
   "source": [
    "# Plot the replication results\n",
    "politics_for_plot = replicated_politics.sort_values(by='Authoritarianism (%)', ascending=False)\n",
    "plt.bar(politics_for_plot['Country'], politics_for_plot['Authoritarianism (%)']);\n",
    "plt.ylim(0, 100)\n",
    "plt.xlabel('Country')\n",
    "plt.ylabel('Proportion of respondents who sometimes prefer authoritarianism (%)')\n",
    "plt.xticks(rotation = 90);\n",
    "plt.yticks(np.arange(0, 101, step = 10));"
   ]
  },
  {
   "cell_type": "markdown",
   "metadata": {},
   "source": [
    "Figure 2. Mean level of preference for authoritarianism across countries in 2016."
   ]
  },
  {
   "cell_type": "markdown",
   "metadata": {},
   "source": [
    "Note. The Guardian article on the LiTS III (https://www.theguardian.com/world/2016/dec/14/unhappy-russians-nostalgic-for-soviet-style-rule-study) was inaccurate. The article stated that 'just over half the respondents from former Soviet states...thought a return to a more authoritarian system would be a plus in some circumstances'. In figure 2, however, we can see that no country had more than 50% of its respondents answer this way. We suspect that The Guardian claimed this based on an inversion of the EBRD chief economist's statement that 'in most of our countries the majority doesn't seem to prefer democracy over authoritarian rule'. However, the newspaper must not have taken into account that there were two other response options, namely, 'don't know' and 'it does not matter whether a government is democratic or authoritarian'. We briefly test this idea below."
   ]
  },
  {
   "cell_type": "code",
   "execution_count": null,
   "metadata": {},
   "outputs": [],
   "source": [
    "# Define former Soviet states.\n",
    "\n",
    "# Countries that were formerly part of the Soviet Union.\n",
    "ussr = ['Armenia', 'Azerbaijan', 'Belarus', 'Estonia', 'Georgia', 'Kazakhstan', 'Kyrgyz Rep.', 'Latvia', 'Lithuania', 'Moldova', 'Russia', 'Tajikistan', 'Turkmenistan', 'Ukraine', 'Uzbekistan']"
   ]
  },
  {
   "cell_type": "code",
   "execution_count": null,
   "metadata": {},
   "outputs": [],
   "source": [
    "def ussr_recoder(country):\n",
    "    \"\"\" Return a boolean for whether a country was in the Soviet Union or not.\n",
    "    \n",
    "    Parameters\n",
    "    ----------\n",
    "    country : string\n",
    "        The country for which it is to be determined whether it was in the Soviet Union or not.\n",
    "    \n",
    "    Returns\n",
    "    -------\n",
    "    in_ussr : boolean\n",
    "        Whether the country was in the Soviet Union or not.\n",
    "    \"\"\"\n",
    "    \n",
    "    if country in ussr:\n",
    "        in_ussr = True\n",
    "    else:\n",
    "        in_ussr = False\n",
    "    \n",
    "    return in_ussr"
   ]
  },
  {
   "cell_type": "code",
   "execution_count": null,
   "metadata": {},
   "outputs": [],
   "source": [
    "# Define exclusions and criteria.\n",
    "\n",
    "# We want to exclude those rows for which political system preference is NaN.\n",
    "guardian_exclusions = [np.nan]\n",
    "\n",
    "# We want to use those rows for which the answer to the political system preferences question was either 'it does not matter whether a government is democratic or authoritarian' (3) or 'don't know' (-97).\n",
    "guardian_criteria_doesntmatter = [3]\n",
    "\n",
    "guardian_criteria_dontknow = [-97]"
   ]
  },
  {
   "cell_type": "code",
   "execution_count": null,
   "metadata": {},
   "outputs": [],
   "source": [
    "replicated_politics_guardian = pd.DataFrame()\n",
    "replicated_politics_guardian[['Country', 'Transition', 'Region']] = original_politics[['Country', 'Transition', 'Region']]\n",
    "replicated_politics_guardian['USSR'] = replicated_politics_guardian['Country'].apply(ussr_recoder)\n",
    "replicated_politics_guardian['Authoritarianism (%)'] = replicated_politics['Authoritarianism (%)']\n",
    "replicated_politics_guardian[\"Doesn't matter (%)\"] = replicated_politics_guardian['Country'].apply(calc_mean_percentage, args=(lits_2016, 'Political System', guardian_exclusions, guardian_criteria_doesntmatter)).round(1)\n",
    "replicated_politics_guardian[\"Don't know (%)\"] = replicated_politics_guardian['Country'].apply(calc_mean_percentage, args=(lits_2016, 'Political System', guardian_exclusions, guardian_criteria_dontknow)).round(1)\n",
    "replicated_politics_guardian.head()"
   ]
  },
  {
   "cell_type": "markdown",
   "metadata": {},
   "source": [
    "Test the different combinations: (1) authoritarianism by itself, (2) authoritarianism + doesn't matter, (3) authoritarianism + don't know, and (4) authoritiarianism + doesn't matter + don't know"
   ]
  },
  {
   "cell_type": "code",
   "execution_count": null,
   "metadata": {
    "scrolled": true
   },
   "outputs": [],
   "source": [
    "# Calculate the mean level of preference for authoritarianism or political uncertainty or indifference in former Soviet states.\n",
    "ussr_replicated_politics_1 = np.mean(replicated_politics_guardian[replicated_politics_guardian['USSR'] == True]['Authoritarianism (%)'])\n",
    "ussr_replicated_politics_2 = np.mean(replicated_politics_guardian[replicated_politics_guardian['USSR'] == True][['Authoritarianism (%)', \"Doesn't matter (%)\"]].sum(axis=1))\n",
    "ussr_replicated_politics_3 = np.mean(replicated_politics_guardian[replicated_politics_guardian['USSR'] == True][['Authoritarianism (%)', \"Don't know (%)\"]].sum(axis=1))\n",
    "ussr_replicated_politics_4 = np.mean(replicated_politics_guardian[replicated_politics_guardian['USSR'] == True][['Authoritarianism (%)', \"Doesn't matter (%)\", \"Don't know (%)\"]].sum(axis=1))\n",
    "\n",
    "print('Preference for authoritarianism across former Soviet states: ' + str(round(ussr_replicated_politics_1)) + '%')\n",
    "print('Preference for authoritarianism or indifference across former Soviet states: ' + str(round(ussr_replicated_politics_2)) + '%')\n",
    "print('Preference for authoritarianism or uncertainty across former Soviet states: ' + str(round(ussr_replicated_politics_3)) + '%')\n",
    "print('Preference for authoritarianism or indifference or uncertainty across former Soviet states: ' + str(round(ussr_replicated_politics_4)) + '%')"
   ]
  },
  {
   "cell_type": "markdown",
   "metadata": {},
   "source": [
    "As can be seen above, only when one considers the combination of preference for authoritarianism, political uncertainty, and political indifference, are over half of respondents from former Soviet states accounted for."
   ]
  },
  {
   "cell_type": "markdown",
   "metadata": {},
   "source": [
    "## Part 2: Analysis"
   ]
  },
  {
   "cell_type": "markdown",
   "metadata": {},
   "source": [
    "Now that we've done the replications, we ask, how surprising are the mean levels of life satisfaction and preference for authoritarianism between the transition region and western Europe regions? Could these values have come about by chance? We test this below, firstly for life satisfaction."
   ]
  },
  {
   "cell_type": "code",
   "execution_count": null,
   "metadata": {},
   "outputs": [],
   "source": [
    "# Recall the original life satisfaction values for the transition region and western Europe\n",
    "print('Transition region life satisfaction: ' + str(transition_replicated_satisfaction) + '%')\n",
    "print('Western Europe life satisfaction: ' + str(w_europe_replicated_satisfaction) + '%')\n",
    "real_satisfaction_diff = w_europe_replicated_satisfaction - transition_replicated_satisfaction\n",
    "print('Difference: ' + str(real_satisfaction_diff) + '%')"
   ]
  },
  {
   "cell_type": "code",
   "execution_count": null,
   "metadata": {},
   "outputs": [],
   "source": [
    "# Get a set of fake results\n",
    "satisfaction_for_permutation = lits_2016.copy()\n",
    "satisfaction_for_permutation['Life Satisfaction'] = np.random.permutation(satisfaction_for_permutation['Life Satisfaction'])\n",
    "fake_satisfaction = pd.DataFrame()\n",
    "fake_satisfaction[['Country', 'Transition', 'Region']] = original_satisfaction[['Country', 'Transition', 'Region']]\n",
    "fake_satisfaction['Life Satisfaction (%)'] = fake_satisfaction['Country'].apply(calc_mean_percentage, args=(satisfaction_for_permutation, 'Life Satisfaction', satisfaction_exclusions, satisfaction_criteria))\n",
    "fake_satisfaction.head()"
   ]
  },
  {
   "cell_type": "code",
   "execution_count": null,
   "metadata": {},
   "outputs": [],
   "source": [
    "fake_satisfaction_diff = np.mean(fake_satisfaction[fake_satisfaction['Region'] == 'W Europe']['Life Satisfaction (%)']) - np.mean(fake_satisfaction[fake_satisfaction['Transition'] == True]['Life Satisfaction (%)'])\n",
    "fake_satisfaction_diff"
   ]
  },
  {
   "cell_type": "code",
   "execution_count": null,
   "metadata": {},
   "outputs": [],
   "source": [
    "# Run a permutation test\n",
    "n_trials = 50\n",
    "fake_satisfaction_diffs = np.zeros(n_trials)\n",
    "fake_satisfaction = pd.DataFrame()\n",
    "fake_satisfaction[['Country', 'Transition', 'Region']] = original_satisfaction[['Country', 'Transition', 'Region']]\n",
    "for i in np.arange(n_trials):\n",
    "    satisfaction_for_permutation['Life Satisfaction'] = np.random.permutation(satisfaction_for_permutation['Life Satisfaction'])\n",
    "    fake_satisfaction['Life Satisfaction (%)'] = fake_satisfaction['Country'].apply(calc_mean_percentage, args=(satisfaction_for_permutation, 'Life Satisfaction', satisfaction_exclusions, satisfaction_criteria))\n",
    "    fake_satisfaction_diffs[i] = np.mean(fake_satisfaction[fake_satisfaction['Region'] == 'W Europe']['Life Satisfaction (%)']) - np.mean(fake_satisfaction[fake_satisfaction['Transition'] == True]['Life Satisfaction (%)'])\n",
    "fake_satisfaction_diffs[:5]"
   ]
  },
  {
   "cell_type": "code",
   "execution_count": null,
   "metadata": {},
   "outputs": [],
   "source": [
    "# Plot a histogram\n",
    "plt.hist(fake_satisfaction_diffs);"
   ]
  },
  {
   "cell_type": "code",
   "execution_count": null,
   "metadata": {},
   "outputs": [],
   "source": [
    "# Get the proportion of null world differences that were greater than or equal to the observed difference.\n",
    "p_gte_satisfaction = np.count_nonzero(fake_satisfaction_diffs >= real_satisfaction_diff) / len(fake_satisfaction_diffs)\n",
    "p_gte_satisfaction"
   ]
  },
  {
   "cell_type": "markdown",
   "metadata": {},
   "source": [
    "And now for the preference for authoritarianism results."
   ]
  },
  {
   "cell_type": "code",
   "execution_count": null,
   "metadata": {},
   "outputs": [],
   "source": [
    "# Recall the original authoritarianism values for the transition region and western Europe\n",
    "print('Transition region authoritarianism: ' + str(transition_replicated_politics) + '%')\n",
    "print('Western Europe authoritarianism: ' + str(w_europe_replicated_politics) + '%')\n",
    "real_politics_diff = transition_replicated_politics - w_europe_replicated_politics\n",
    "print('Difference: ' + str(real_politics_diff) + '%')"
   ]
  },
  {
   "cell_type": "code",
   "execution_count": null,
   "metadata": {},
   "outputs": [],
   "source": [
    "# Get a set of fake results\n",
    "politics_for_permutation = lits_2016.copy()\n",
    "politics_for_permutation['Political System'] = np.random.permutation(politics_for_permutation['Political System'])\n",
    "fake_politics = pd.DataFrame()\n",
    "fake_politics[['Country', 'Transition', 'Region']] = original_politics[['Country', 'Transition', 'Region']]\n",
    "fake_politics['Authoritarianism (%)'] = fake_politics['Country'].apply(calc_mean_percentage, args=(politics_for_permutation, 'Political System', politics_exclusions, politics_criteria))\n",
    "fake_politics.head()"
   ]
  },
  {
   "cell_type": "code",
   "execution_count": null,
   "metadata": {},
   "outputs": [],
   "source": [
    "fake_politics_diff = np.mean(fake_politics[fake_politics['Transition'] == True]['Authoritarianism (%)']) - np.mean(fake_politics[fake_politics['Region'] == 'W Europe']['Authoritarianism (%)'])\n",
    "fake_politics_diff"
   ]
  },
  {
   "cell_type": "code",
   "execution_count": null,
   "metadata": {},
   "outputs": [],
   "source": [
    "# Run a permutation test\n",
    "n_trials = 50\n",
    "fake_politics_diffs = np.zeros(n_trials)\n",
    "fake_politics = pd.DataFrame()\n",
    "fake_politics[['Country', 'Transition', 'Region']] = original_politics[['Country', 'Transition', 'Region']]\n",
    "for i in np.arange(n_trials):\n",
    "    politics_for_permutation['Political System'] = np.random.permutation(politics_for_permutation['Political System'])\n",
    "    fake_politics['Authoritarianism (%)'] = fake_politics['Country'].apply(calc_mean_percentage, args=(politics_for_permutation, 'Political System', politics_exclusions, politics_criteria))\n",
    "    fake_politics_diffs[i] = np.mean(fake_politics[fake_politics['Transition'] == True]['Authoritarianism (%)']) - np.mean(fake_politics[fake_politics['Region'] == 'W Europe']['Authoritarianism (%)'])\n",
    "fake_politics_diffs[:5]"
   ]
  },
  {
   "cell_type": "code",
   "execution_count": null,
   "metadata": {},
   "outputs": [],
   "source": [
    "# Plot a histogram\n",
    "plt.hist(fake_politics_diffs);"
   ]
  },
  {
   "cell_type": "code",
   "execution_count": null,
   "metadata": {},
   "outputs": [],
   "source": [
    "# Get the proportion of null world differences that were greater than or equal to the observed difference.\n",
    "p_gte_politics = np.count_nonzero(fake_politics_diffs >= real_politics_diff) / len(fake_politics_diffs)\n",
    "p_gte_politics"
   ]
  },
  {
   "cell_type": "markdown",
   "metadata": {},
   "source": [
    "For both life satisfaction and preference for authoritarianism, it is highly unlikely that the results came about by chance since they did not occur at all in the null worlds."
   ]
  },
  {
   "cell_type": "markdown",
   "metadata": {},
   "source": [
    "We test whether there is a correlation between life satisfaction and preference for authoritarianism on the country level."
   ]
  },
  {
   "cell_type": "code",
   "execution_count": null,
   "metadata": {
    "scrolled": true
   },
   "outputs": [],
   "source": [
    "plt.scatter(replicated_satisfaction['Life Satisfaction (%)'], replicated_politics['Authoritarianism (%)']);\n",
    "plt.xlabel('Life Satisfaction (%)');\n",
    "plt.ylabel('Preference for authoritarianism (%)');"
   ]
  },
  {
   "cell_type": "markdown",
   "metadata": {},
   "source": [
    "Figure 3. Scatterplot of life satisfaction and preference for authoritarianism."
   ]
  },
  {
   "cell_type": "code",
   "execution_count": null,
   "metadata": {},
   "outputs": [],
   "source": [
    "def standard_units(x):\n",
    "    return (x - np.mean(x))/np.std(x)"
   ]
  },
  {
   "cell_type": "code",
   "execution_count": null,
   "metadata": {},
   "outputs": [],
   "source": [
    "def correlation(x, y):\n",
    "    return np.mean(standard_units(x) * standard_units(y))"
   ]
  },
  {
   "cell_type": "code",
   "execution_count": null,
   "metadata": {},
   "outputs": [],
   "source": [
    "correlation(replicated_satisfaction['Life Satisfaction (%)'], replicated_politics['Authoritarianism (%)'])"
   ]
  },
  {
   "cell_type": "markdown",
   "metadata": {},
   "source": [
    "There is a weak negative correlation between life satisfaction and preference for authoritarianism. That is, broadly speaking, as life satisfaction increases, preference for authoritarianism tends to decrease."
   ]
  },
  {
   "cell_type": "markdown",
   "metadata": {},
   "source": [
    "However, country averages mask regional variations. Perhaps there might be a different correlation if we look at primary sampling units (PSUs), which are geographical areas within each country from which an average of 20 households were sampled."
   ]
  },
  {
   "cell_type": "code",
   "execution_count": null,
   "metadata": {},
   "outputs": [],
   "source": [
    "# Define a function that will calculate the survey-weighted level of a certain measure for each PSU.\n",
    "def calc_percentage_psu(country_psu, df, measure, exclusions, criteria):\n",
    "    \"\"\" Return the mean percentage of respondents in a given PSU who fulfilled certain criteria on a given measure.\n",
    "    \n",
    "    Paramaters\n",
    "    ----------\n",
    "    country_psu : array\n",
    "        The first element is the country of the PSU and the second element is the PSU for which we are finding the percentage of respondents who fulfilled certain criteria.\n",
    "    df : dataframe\n",
    "        The dataframe from which we draw our results.\n",
    "    measure: string\n",
    "        The measure of interest.\n",
    "    exclusions: array\n",
    "        Values of the measure of interest that are excluded from further analysis.\n",
    "    criteria: array\n",
    "        Values of the measure of interest that are included for calculating the percentage.\n",
    "    \n",
    "    Returns\n",
    "    -------\n",
    "    mean_percentage : number\n",
    "        The mean percentage of respondents in a given PSU who fulfilled certain criteria on a given measure.\n",
    "    \n",
    "    \"\"\"\n",
    "    \n",
    "    country, psu = country_psu\n",
    "    \n",
    "    # Take the segment of the dataframe corresponding to the given country and PSU.\n",
    "    df_overall = df.copy()\n",
    "    df_overall = df_overall[df_overall['Country'] == country]\n",
    "    df_overall = df_overall[df_overall['PSU'] == psu]\n",
    "    \n",
    "    # Clean the dataframe by removing rows with the excluded values in the measure column.\n",
    "    df_overall = exclude_values(df_overall, measure, exclusions)\n",
    "    \n",
    "    # Create a new dataframe that contains only those rows that passed the criteria on the measure column.\n",
    "    df_select = include_values(df_overall, measure, criteria)\n",
    "        \n",
    "    mean_percentage = np.sum(df_select['Weight 1']) / np.sum(df_overall['Weight 1']) * 100\n",
    "    \n",
    "    return mean_percentage"
   ]
  },
  {
   "cell_type": "code",
   "execution_count": null,
   "metadata": {},
   "outputs": [],
   "source": [
    "by_country_psu = lits_2016.groupby(['Country', 'PSU']).size().to_frame(name = 'Count').reset_index()\n",
    "by_country_psu['Life Satisfaction (%)'] = by_country_psu[['Country', 'PSU']].apply(calc_percentage_psu, axis=1, args=(lits_2016, 'Life Satisfaction', satisfaction_exclusions, satisfaction_criteria))\n",
    "by_country_psu['Authoritarianism (%)'] = by_country_psu[['Country', 'PSU']].apply(calc_percentage_psu, axis=1, args=(lits_2016, 'Political System', politics_exclusions, politics_criteria))\n",
    "by_country_psu.head()"
   ]
  },
  {
   "cell_type": "code",
   "execution_count": null,
   "metadata": {},
   "outputs": [],
   "source": [
    "plt.scatter(by_country_psu['Life Satisfaction (%)'], by_country_psu['Authoritarianism (%)']);\n",
    "plt.xlabel('Life Satisfaction (%)');\n",
    "plt.ylabel('Preference for authoritarianism (%)');"
   ]
  },
  {
   "cell_type": "code",
   "execution_count": null,
   "metadata": {},
   "outputs": [],
   "source": [
    "correlation(by_country_psu['Life Satisfaction (%)'], by_country_psu['Authoritarianism (%)'])"
   ]
  },
  {
   "cell_type": "markdown",
   "metadata": {},
   "source": [
    "Once we examined the data at a finer scale of PSUs, there was practically no correlation between life satisfaction and preference for authoritarianism. That is, both happy and unhappy PSUs showed high and low preference for authoritarianism."
   ]
  },
  {
   "cell_type": "markdown",
   "metadata": {},
   "source": [
    "We proceed to examine other factors that might affect life satisfaction levels and preference for authoritarianism separately. First, we look at the mean age in each PSU."
   ]
  },
  {
   "cell_type": "code",
   "execution_count": null,
   "metadata": {},
   "outputs": [],
   "source": [
    "# Define a function that will calculate the mean value of a certain measure in each PSU.\n",
    "def calc_mean_psu(country_psu, df, measure, exclusions):\n",
    "    \"\"\" Return the mean value of a given measure in a dataframe cleaned of values in exclusions.\n",
    "    \n",
    "    Paramaters\n",
    "    ----------\n",
    "    country_psu : array\n",
    "        The first element is the country of the PSU and the second element is the PSU for which we are finding the mean of a certain measure.\n",
    "    df : dataframe\n",
    "        The dataframe from which we draw our results.\n",
    "    measure: string\n",
    "        The measure of interest.\n",
    "    exclusions: array\n",
    "        Values of the measure of interest that are excluded from further analysis.\n",
    "    \n",
    "    Returns\n",
    "    -------\n",
    "    mean : number\n",
    "        The mean value of a given measure.\n",
    "    \n",
    "    \"\"\"\n",
    "    \n",
    "    country, psu = country_psu\n",
    "    \n",
    "    # Take the segment of the dataframe corresponding to the given country and PSU.\n",
    "    df_overall = df.copy()\n",
    "    df_overall = df_overall[df_overall['Country'] == country]\n",
    "    df_overall = df_overall[df_overall['PSU'] == psu]\n",
    "    \n",
    "    # Clean the dataframe by removing rows with the excluded values in the measure column.\n",
    "    df_overall = exclude_values(df_overall, measure, exclusions)\n",
    "\n",
    "    mean = np.sum(df_overall['Weight Sample'] * df_overall[measure]) / np.sum(df_overall['Weight Sample'])\n",
    "    \n",
    "    return mean"
   ]
  },
  {
   "cell_type": "code",
   "execution_count": null,
   "metadata": {},
   "outputs": [],
   "source": [
    "# Exclusions\n",
    "\n",
    "age_exclusions = []"
   ]
  },
  {
   "cell_type": "code",
   "execution_count": null,
   "metadata": {},
   "outputs": [],
   "source": [
    "by_country_psu['Mean age'] = by_country_psu[['Country', 'PSU']].apply(calc_mean_psu, axis=1, args=(lits_2016, 'Age', age_exclusions))\n",
    "by_country_psu.head()"
   ]
  },
  {
   "cell_type": "code",
   "execution_count": null,
   "metadata": {},
   "outputs": [],
   "source": [
    "plt.scatter(by_country_psu['Mean age'], by_country_psu['Life Satisfaction (%)']);\n",
    "plt.xlabel('Mean age');\n",
    "plt.ylabel('Life Satisfaction (%)');"
   ]
  },
  {
   "cell_type": "code",
   "execution_count": null,
   "metadata": {},
   "outputs": [],
   "source": [
    "correlation(by_country_psu['Mean age'], by_country_psu['Life Satisfaction (%)'])"
   ]
  },
  {
   "cell_type": "markdown",
   "metadata": {},
   "source": [
    "There is no real correlation between mean age and mean life satisfaction in PSUs."
   ]
  },
  {
   "cell_type": "code",
   "execution_count": null,
   "metadata": {},
   "outputs": [],
   "source": [
    "plt.scatter(by_country_psu['Mean age'], by_country_psu['Authoritarianism (%)']);\n",
    "plt.xlabel('Mean age');\n",
    "plt.ylabel('Authoritarianism (%)');"
   ]
  },
  {
   "cell_type": "code",
   "execution_count": null,
   "metadata": {},
   "outputs": [],
   "source": [
    "correlation(by_country_psu['Mean age'], by_country_psu['Authoritarianism (%)'])"
   ]
  },
  {
   "cell_type": "markdown",
   "metadata": {},
   "source": [
    "Similarly, there is no correlation between mean age and preference for authoritarianism when looking at individual PSUs."
   ]
  },
  {
   "cell_type": "markdown",
   "metadata": {},
   "source": [
    "What about the relationship between socialising with people outside the household (e.g., extended family and friends) and life satisfaction? We take high socialising to mean those who meet with friends and relatives at least once or twice a week."
   ]
  },
  {
   "cell_type": "code",
   "execution_count": null,
   "metadata": {},
   "outputs": [],
   "source": [
    "# Exclusions\n",
    "\n",
    "social_exclusions = [-97, -99]\n",
    "\n",
    "# Criteria\n",
    "\n",
    "social_criteria = [1, 2]"
   ]
  },
  {
   "cell_type": "code",
   "execution_count": null,
   "metadata": {},
   "outputs": [],
   "source": [
    "by_country_psu['Socialising (%)'] = by_country_psu[['Country', 'PSU']].apply(calc_percentage_psu, axis=1, args=(lits_2016, 'Socialising', social_exclusions, social_criteria))\n",
    "by_country_psu.head()"
   ]
  },
  {
   "cell_type": "code",
   "execution_count": null,
   "metadata": {},
   "outputs": [],
   "source": [
    "plt.scatter(by_country_psu['Socialising (%)'], by_country_psu['Life Satisfaction (%)']);\n",
    "plt.xlabel('Socialising (%)');\n",
    "plt.ylabel('Life Satisfaction (%)');"
   ]
  },
  {
   "cell_type": "code",
   "execution_count": null,
   "metadata": {
    "scrolled": false
   },
   "outputs": [],
   "source": [
    "correlation(by_country_psu['Socialising (%)'], by_country_psu['Life Satisfaction (%)'])"
   ]
  },
  {
   "cell_type": "markdown",
   "metadata": {},
   "source": [
    "Again, mean levels of high socialising are a poor predictor of mean life satisfaction in PSUs."
   ]
  },
  {
   "cell_type": "markdown",
   "metadata": {},
   "source": [
    "We next turn to the question of income. First, we need to convert the monthly income from the local currency (LCU) to USD ($) to be able to compare. We can do this using the Purchasing Power Parity (PPP) from 2016."
   ]
  },
  {
   "cell_type": "code",
   "execution_count": null,
   "metadata": {},
   "outputs": [],
   "source": [
    "# Exclusions\n",
    "\n",
    "income_exclusions = [np.nan, -99, 2147483647] # there are 2 instances of this very high number that are extreme outliers, so will be excluded"
   ]
  },
  {
   "cell_type": "code",
   "execution_count": null,
   "metadata": {},
   "outputs": [],
   "source": [
    "by_country_psu['Monthly Income (LCU)'] = by_country_psu[['Country', 'PSU']].apply(calc_mean_psu, axis=1, args=(lits_2016, 'Monthly Income', income_exclusions))\n",
    "by_country_psu"
   ]
  },
  {
   "cell_type": "markdown",
   "metadata": {},
   "source": [
    "In 2016, Belarus introduced a new rouble such that 1 new rouble was equivalent to 10,000 old roubles. \n",
    "The incomes for Belarussian households in LiTS III were reported using the old currency, whereas the PPP loaded below assumes the new currency.\n",
    "Therefore, to use with the PPP, we convert the Belarussian incomes from the old currency to the new currency.\n",
    "Source: https://en.wikipedia.org/wiki/Belarusian_ruble#Third_ruble,_2016%E2%80%93present."
   ]
  },
  {
   "cell_type": "code",
   "execution_count": null,
   "metadata": {},
   "outputs": [],
   "source": [
    "for i in np.arange(len(by_country_psu)):\n",
    "    if by_country_psu.loc[i, 'Country'] == 'Belarus':\n",
    "        by_country_psu.loc[i, 'Monthly Income (LCU)'] = by_country_psu.loc[i, 'Monthly Income (LCU)'] / 10000"
   ]
  },
  {
   "cell_type": "markdown",
   "metadata": {},
   "source": [
    "We got the PPP data from https://databank.worldbank.org/reports.aspx?source=2&series=PA.NUS.PPP#"
   ]
  },
  {
   "cell_type": "code",
   "execution_count": null,
   "metadata": {},
   "outputs": [],
   "source": [
    "# Read the table\n",
    "ppp = pd.read_csv('./data/PPP 2016.csv')\n",
    "# Select only the columns we're interested in\n",
    "good_cols = ['Country Name', '2016 [YR2016]']\n",
    "ppp = ppp.loc[:, good_cols]\n",
    "# Give the columns new names\n",
    "good_names = ['Country', 'PPP']\n",
    "ppp.columns = good_names\n",
    "ppp.head()"
   ]
  },
  {
   "cell_type": "code",
   "execution_count": null,
   "metadata": {},
   "outputs": [],
   "source": [
    "ppp_for_lits = pd.DataFrame()\n",
    "for i in np.arange(len(ppp['Country'])):\n",
    "    if ppp.iloc[i,0] in all_countries:\n",
    "        ppp_for_lits = ppp_for_lits.append(ppp.iloc[i])\n",
    "    elif ppp.iloc[i,0] == 'North Macedonia':\n",
    "        ppp_for_lits = ppp_for_lits.append(ppp.iloc[i])\n",
    "        ppp_for_lits.iloc[-1,0] = 'FYR Macedonia'\n",
    "    elif ppp.iloc[i,0] == 'Kyrgyz Republic':\n",
    "        ppp_for_lits = ppp_for_lits.append(ppp.iloc[i])\n",
    "        ppp_for_lits.iloc[-1,0] = 'Kyrgyz Rep.'\n",
    "    elif ppp.iloc[i,0] == 'Russian Federation':\n",
    "        ppp_for_lits = ppp_for_lits.append(ppp.iloc[i])\n",
    "        ppp_for_lits.iloc[-1,0] = 'Russia'\n",
    "    elif ppp.iloc[i,0] == 'Bosnia and Herzegovina':\n",
    "        ppp_for_lits = ppp_for_lits.append(ppp.iloc[i])\n",
    "        ppp_for_lits.iloc[-1,0] = 'Bosnia and Herz.'\n",
    "    elif ppp.iloc[i,0] == 'Slovak Republic':\n",
    "        ppp_for_lits = ppp_for_lits.append(ppp.iloc[i])\n",
    "        ppp_for_lits.iloc[-1,0] = 'Slovak Rep.'\n",
    "    elif ppp.iloc[i,0] == 'Czech Republic':\n",
    "        ppp_for_lits = ppp_for_lits.append(ppp.iloc[i])\n",
    "        ppp_for_lits.iloc[-1,0] = 'Czech Rep.'\n",
    "ppp_for_lits = ppp_for_lits.sort_values('Country', ascending=True)\n",
    "ppp_for_lits = ppp_for_lits.set_index('Country')\n",
    "ppp_for_lits['PPP'] = pd.to_numeric(ppp_for_lits['PPP'])\n",
    "ppp_for_lits.head()"
   ]
  },
  {
   "cell_type": "code",
   "execution_count": null,
   "metadata": {},
   "outputs": [],
   "source": [
    "def ppp_recoder(country):\n",
    "    return ppp_for_lits.loc[country, 'PPP']"
   ]
  },
  {
   "cell_type": "code",
   "execution_count": null,
   "metadata": {},
   "outputs": [],
   "source": [
    "by_country_psu['PPP'] = by_country_psu['Country'].apply(ppp_recoder)\n",
    "by_country_psu"
   ]
  },
  {
   "cell_type": "markdown",
   "metadata": {},
   "source": [
    "We convert the monthly incomes from the local currency to USD ($)."
   ]
  },
  {
   "cell_type": "code",
   "execution_count": null,
   "metadata": {},
   "outputs": [],
   "source": [
    "by_country_psu['Monthly Income ($)'] = (by_country_psu['Monthly Income (LCU)'] / by_country_psu['PPP'])\n",
    "by_country_psu"
   ]
  },
  {
   "cell_type": "code",
   "execution_count": null,
   "metadata": {
    "scrolled": true
   },
   "outputs": [],
   "source": [
    "plt.scatter(by_country_psu['Monthly Income ($)'], by_country_psu['Life Satisfaction (%)']);\n",
    "plt.xlabel('Monthy Income ($)');\n",
    "plt.ylabel('Life Satisfaction (%)');"
   ]
  },
  {
   "cell_type": "code",
   "execution_count": null,
   "metadata": {},
   "outputs": [],
   "source": [
    "correlation(by_country_psu['Monthly Income ($)'], by_country_psu['Life Satisfaction (%)'])"
   ]
  },
  {
   "cell_type": "code",
   "execution_count": null,
   "metadata": {},
   "outputs": [],
   "source": [
    "plt.scatter(by_country_psu['Monthly Income ($)'], by_country_psu['Life Satisfaction (%)']);\n",
    "plt.xlabel('Monthy Income ($)');\n",
    "plt.xlim([0, 10000]);\n",
    "plt.ylabel('Life Satisfaction (%)');"
   ]
  },
  {
   "cell_type": "code",
   "execution_count": null,
   "metadata": {},
   "outputs": [],
   "source": [
    "correlation(by_country_psu[by_country_psu['Monthly Income ($)'] <= 10000]['Monthly Income ($)'], by_country_psu[by_country_psu['Monthly Income ($)'] <= 10000]['Life Satisfaction (%)'])"
   ]
  },
  {
   "cell_type": "markdown",
   "metadata": {},
   "source": [
    "There is a weak positive correlation between income levels and life satisfaction. Perhaps what matters is not absolute wealth, but (changes in) perceived wealth, which is what is explored next. Specifically, respondents were asked to imagine a 10-step ladder where the bottom rung represents their country's poorest 10%. They were then asked to judge where they would place themselves on that ladder now (2016), four years ago (2012), and four years into the future (2020). "
   ]
  },
  {
   "cell_type": "code",
   "execution_count": null,
   "metadata": {},
   "outputs": [],
   "source": [
    "# Exclusions\n",
    "\n",
    "wealth_exclusions = [np.nan, -97, -99]"
   ]
  },
  {
   "cell_type": "code",
   "execution_count": null,
   "metadata": {},
   "outputs": [],
   "source": [
    "by_country_psu['Wealth Level'] = by_country_psu[['Country', 'PSU']].apply(calc_mean_psu, axis=1, args=(lits_2016, 'Wealth Level', wealth_exclusions))\n",
    "by_country_psu.head()"
   ]
  },
  {
   "cell_type": "code",
   "execution_count": null,
   "metadata": {
    "scrolled": true
   },
   "outputs": [],
   "source": [
    "plt.scatter(by_country_psu['Wealth Level'], by_country_psu['Life Satisfaction (%)']);\n",
    "plt.xlabel('Wealth Level');\n",
    "plt.ylabel('Life Satisfaction (%)');"
   ]
  },
  {
   "cell_type": "code",
   "execution_count": null,
   "metadata": {
    "scrolled": false
   },
   "outputs": [],
   "source": [
    "correlation(by_country_psu['Wealth Level'], by_country_psu['Life Satisfaction (%)'])"
   ]
  },
  {
   "cell_type": "code",
   "execution_count": null,
   "metadata": {},
   "outputs": [],
   "source": [
    "by_country_psu['Past Wealth Level'] = by_country_psu[['Country', 'PSU']].apply(calc_mean_psu, axis=1, args=(lits_2016, 'Past Wealth Level', wealth_exclusions))\n",
    "by_country_psu['Past Wealth Change'] = by_country_psu['Wealth Level'] - by_country_psu['Past Wealth Level']\n",
    "by_country_psu.head()"
   ]
  },
  {
   "cell_type": "code",
   "execution_count": null,
   "metadata": {
    "scrolled": true
   },
   "outputs": [],
   "source": [
    "plt.scatter(by_country_psu['Past Wealth Change'], by_country_psu['Life Satisfaction (%)']);\n",
    "plt.xlabel('Past Wealth Change');\n",
    "plt.ylabel('Life Satisfaction (%)');"
   ]
  },
  {
   "cell_type": "code",
   "execution_count": null,
   "metadata": {
    "scrolled": false
   },
   "outputs": [],
   "source": [
    "correlation(by_country_psu['Past Wealth Change'], by_country_psu['Life Satisfaction (%)'])"
   ]
  },
  {
   "cell_type": "code",
   "execution_count": null,
   "metadata": {},
   "outputs": [],
   "source": [
    "by_country_psu['Predicted Wealth Level'] = by_country_psu[['Country', 'PSU']].apply(calc_mean_psu, axis=1, args=(lits_2016, 'Predicted Wealth Level', wealth_exclusions))\n",
    "by_country_psu['Predicted Wealth Change'] = by_country_psu['Predicted Wealth Level'] - by_country_psu['Wealth Level']\n",
    "by_country_psu.head()"
   ]
  },
  {
   "cell_type": "code",
   "execution_count": null,
   "metadata": {
    "scrolled": true
   },
   "outputs": [],
   "source": [
    "plt.scatter(by_country_psu['Predicted Wealth Change'], by_country_psu['Life Satisfaction (%)']);\n",
    "plt.xlabel('Predicted Wealth Change');\n",
    "plt.ylabel('Life Satisfaction (%)');"
   ]
  },
  {
   "cell_type": "code",
   "execution_count": null,
   "metadata": {
    "scrolled": false
   },
   "outputs": [],
   "source": [
    "correlation(by_country_psu['Predicted Wealth Change'], by_country_psu['Life Satisfaction (%)'])"
   ]
  },
  {
   "cell_type": "markdown",
   "metadata": {},
   "source": [
    "There are stronger correlations between changes in perceived wealth up to now (perhaps a proxy for perceived progress) and life satisfaction, and between predicted changes in wealth (perhaps a proxy for future hope) and life satisfaction, than there is between present perceived wealth and life satisfaction."
   ]
  },
  {
   "cell_type": "markdown",
   "metadata": {},
   "source": [
    "Another measure for progress is how our lives compare to those of our parents, which may also factor in people's assessments of their life satisfaction."
   ]
  },
  {
   "cell_type": "code",
   "execution_count": null,
   "metadata": {},
   "outputs": [],
   "source": [
    "# Exclusions\n",
    "\n",
    "parents_exclusions = [np.nan, -97, -98]\n",
    "\n",
    "# Criteria\n",
    "\n",
    "parents_criteria = [4, 5]"
   ]
  },
  {
   "cell_type": "code",
   "execution_count": null,
   "metadata": {},
   "outputs": [],
   "source": [
    "by_country_psu['Better than parents (%)'] = by_country_psu[['Country', 'PSU']].apply(calc_percentage_psu, axis=1, args=(lits_2016, 'Parents', parents_exclusions, parents_criteria))\n",
    "by_country_psu.head()"
   ]
  },
  {
   "cell_type": "code",
   "execution_count": null,
   "metadata": {
    "scrolled": true
   },
   "outputs": [],
   "source": [
    "plt.scatter(by_country_psu['Better than parents (%)'], by_country_psu['Life Satisfaction (%)']);\n",
    "plt.xlabel('Better than parents (%)');\n",
    "plt.ylabel('Life Satisfaction (%)');"
   ]
  },
  {
   "cell_type": "code",
   "execution_count": null,
   "metadata": {
    "scrolled": true
   },
   "outputs": [],
   "source": [
    "correlation(by_country_psu['Better than parents (%)'], by_country_psu['Life Satisfaction (%)'])"
   ]
  },
  {
   "cell_type": "markdown",
   "metadata": {},
   "source": [
    "Thinking that one has done better in life than one's parents is the strongest predictor so far of current life satisfaction at the PSU level."
   ]
  },
  {
   "cell_type": "code",
   "execution_count": null,
   "metadata": {},
   "outputs": [],
   "source": [
    "plt.scatter(by_country_psu['Better than parents (%)'], by_country_psu['Authoritarianism (%)']);\n",
    "plt.xlabel('Better than parents (%)');\n",
    "plt.ylabel('Authoritarianism (%)');"
   ]
  },
  {
   "cell_type": "code",
   "execution_count": null,
   "metadata": {},
   "outputs": [],
   "source": [
    "correlation(by_country_psu['Better than parents (%)'], by_country_psu['Authoritarianism (%)'])"
   ]
  },
  {
   "cell_type": "code",
   "execution_count": null,
   "metadata": {},
   "outputs": [],
   "source": [
    "# Exclusions\n",
    "\n",
    "employment_exclusions = []\n",
    "\n",
    "# Criteria\n",
    "\n",
    "employment_criteria = [1]"
   ]
  },
  {
   "cell_type": "code",
   "execution_count": null,
   "metadata": {
    "scrolled": true
   },
   "outputs": [],
   "source": [
    "by_country_psu['Employment (%)'] = by_country_psu[['Country', 'PSU']].apply(calc_percentage_psu, axis=1, args=(lits_2016, 'Employment', employment_exclusions, employment_criteria))\n",
    "by_country_psu.head()"
   ]
  },
  {
   "cell_type": "code",
   "execution_count": null,
   "metadata": {
    "scrolled": false
   },
   "outputs": [],
   "source": [
    "plt.scatter(by_country_psu['Employment (%)'], by_country_psu['Life Satisfaction (%)']);\n",
    "plt.xlabel('Employment (%)');\n",
    "plt.ylabel('Life Satisfaction (%)');"
   ]
  },
  {
   "cell_type": "code",
   "execution_count": null,
   "metadata": {
    "scrolled": true
   },
   "outputs": [],
   "source": [
    "correlation(by_country_psu['Employment (%)'], by_country_psu['Life Satisfaction (%)'])"
   ]
  },
  {
   "cell_type": "code",
   "execution_count": null,
   "metadata": {},
   "outputs": [],
   "source": [
    "# Exclusions\n",
    "\n",
    "health_exclusions = [np.nan, -97]\n",
    "\n",
    "# Criteria\n",
    "\n",
    "health_criteria = [1, 2]"
   ]
  },
  {
   "cell_type": "code",
   "execution_count": null,
   "metadata": {
    "scrolled": false
   },
   "outputs": [],
   "source": [
    "by_country_psu['Good health (%)'] = by_country_psu[['Country', 'PSU']].apply(calc_percentage_psu, axis=1, args=(lits_2016, 'Health', health_exclusions, health_criteria))\n",
    "by_country_psu.head()"
   ]
  },
  {
   "cell_type": "code",
   "execution_count": null,
   "metadata": {
    "scrolled": true
   },
   "outputs": [],
   "source": [
    "plt.scatter(by_country_psu['Good health (%)'], by_country_psu['Life Satisfaction (%)']);\n",
    "plt.xlabel('Good health (%)');\n",
    "plt.ylabel('Life Satisfaction (%)');"
   ]
  },
  {
   "cell_type": "code",
   "execution_count": null,
   "metadata": {
    "scrolled": false
   },
   "outputs": [],
   "source": [
    "correlation(by_country_psu['Good health (%)'], by_country_psu['Life Satisfaction (%)'])"
   ]
  },
  {
   "cell_type": "code",
   "execution_count": null,
   "metadata": {},
   "outputs": [],
   "source": [
    "# Exclusions\n",
    "\n",
    "education_exclusions = [np.nan]"
   ]
  },
  {
   "cell_type": "code",
   "execution_count": null,
   "metadata": {
    "scrolled": false
   },
   "outputs": [],
   "source": [
    "by_country_psu['Education level'] = by_country_psu[['Country', 'PSU']].apply(calc_mean_psu, axis=1, args=(lits_2016, 'Education', education_exclusions))\n",
    "by_country_psu.head()"
   ]
  },
  {
   "cell_type": "code",
   "execution_count": null,
   "metadata": {
    "scrolled": true
   },
   "outputs": [],
   "source": [
    "plt.scatter(by_country_psu['Education level'], by_country_psu['Life Satisfaction (%)']);\n",
    "plt.xlabel('Education level');\n",
    "plt.ylabel('Life Satisfaction (%)');"
   ]
  },
  {
   "cell_type": "code",
   "execution_count": null,
   "metadata": {
    "scrolled": false
   },
   "outputs": [],
   "source": [
    "correlation(by_country_psu['Education level'], by_country_psu['Life Satisfaction (%)'])"
   ]
  },
  {
   "cell_type": "code",
   "execution_count": null,
   "metadata": {
    "scrolled": true
   },
   "outputs": [],
   "source": [
    "plt.scatter(by_country_psu['Education level'], by_country_psu['Authoritarianism (%)']);\n",
    "plt.xlabel('Education level');\n",
    "plt.ylabel('Authoritarianism (%)');"
   ]
  },
  {
   "cell_type": "code",
   "execution_count": null,
   "metadata": {
    "scrolled": true
   },
   "outputs": [],
   "source": [
    "correlation(by_country_psu['Education level'], by_country_psu['Authoritarianism (%)'])"
   ]
  },
  {
   "cell_type": "markdown",
   "metadata": {},
   "source": [
    "Having explored the correlations between several variables and life satisfaction, we see that some are better predictors than others. We next use multiple linear regression to see if we can do better by considering multiple variables at the same time for predicting life satisfaction."
   ]
  },
  {
   "cell_type": "code",
   "execution_count": null,
   "metadata": {},
   "outputs": [],
   "source": [
    "# Create a copy of the by_country_psu dataframe but drop all rows that have NaN values (which could have come about if, for example, all respondents in a PSU refused to answer a certain question).\n",
    "by_country_psu_no_nan = by_country_psu.copy().dropna()\n",
    "N = len(by_country_psu_no_nan)\n",
    "half_N = int(N / 2)\n",
    "# Shuffle data frame by taking random sample with same number of rows.\n",
    "shuffled_by_country_psu = by_country_psu_no_nan.sample(n=N, replace=False)\n",
    "train = shuffled_by_country_psu.iloc[:half_N]\n",
    "test = shuffled_by_country_psu.iloc[half_N:]\n",
    "print(len(train), 'training and', len(test), 'test instances.')"
   ]
  },
  {
   "cell_type": "code",
   "execution_count": null,
   "metadata": {},
   "outputs": [],
   "source": [
    "columns_to_drop = ['Country', 'PSU', 'Count', 'Life Satisfaction (%)', 'Authoritarianism (%)', 'Socialising (%)', 'Monthly Income (LCU)', 'PPP', 'Employment (%)']"
   ]
  },
  {
   "cell_type": "code",
   "execution_count": null,
   "metadata": {},
   "outputs": [],
   "source": [
    "def predict(slopes, row):\n",
    "    return np.sum(slopes * np.array(row))\n",
    "\n",
    "example_row = test.drop(columns = columns_to_drop).iloc[0]\n",
    "example_slopes = np.random.normal(1, 1, len(example_row))\n",
    "train_satisfaction = train['Life Satisfaction (%)']\n",
    "train_attributes = train.drop(columns = columns_to_drop)"
   ]
  },
  {
   "cell_type": "code",
   "execution_count": null,
   "metadata": {},
   "outputs": [],
   "source": [
    "def rmse(slopes, attributes, y_values):\n",
    "    errors = []\n",
    "    for i in np.arange(len(y_values)):\n",
    "        predicted = predict(slopes, attributes.iloc[i])\n",
    "        actual = y_values.iloc[i]\n",
    "        errors.append((actual - predicted) ** 2)\n",
    "    return np.sqrt(np.mean(errors))\n",
    "\n",
    "def rmse_train(slopes):\n",
    "    return rmse(slopes, train_attributes, train_satisfaction)\n",
    "\n",
    "print('RMSE of all training examples using random slopes:', rmse_train(example_slopes))"
   ]
  },
  {
   "cell_type": "code",
   "execution_count": null,
   "metadata": {},
   "outputs": [],
   "source": [
    "def rmse_fast(slopes, attributes, y_values):\n",
    "    # Make an n by s array of slopes by copying the s slopes array n times.\n",
    "    slopes_array = np.tile(slopes, [len(y_values), 1])\n",
    "    # Multiply the n by s array by the corresponding attributes.\n",
    "    predicted = np.sum(slopes_array * attributes, axis=1)\n",
    "    errors = y_values - predicted\n",
    "    return np.sqrt(np.mean(errors ** 2))\n",
    "\n",
    "def rmse_train_fast(slopes):\n",
    "    return rmse_fast(slopes, train_attributes, train_satisfaction)"
   ]
  },
  {
   "cell_type": "code",
   "execution_count": null,
   "metadata": {},
   "outputs": [],
   "source": [
    "from scipy.optimize import minimize"
   ]
  },
  {
   "cell_type": "code",
   "execution_count": null,
   "metadata": {},
   "outputs": [],
   "source": [
    "# Use minimize to calculate smallest RMSE slopes.\n",
    "multi_res = minimize(rmse_train_fast, example_slopes)\n",
    "best_slopes = multi_res.x\n",
    "best_slopes"
   ]
  },
  {
   "cell_type": "code",
   "execution_count": null,
   "metadata": {},
   "outputs": [],
   "source": [
    "test_satisfaction = test['Life Satisfaction (%)']\n",
    "test_attributes = test.drop(columns = columns_to_drop)\n",
    "\n",
    "def rmse_test(slopes):\n",
    "    return rmse(slopes, test_attributes, test_satisfaction)\n",
    "\n",
    "rmse_linear = rmse_test(best_slopes)\n",
    "print('Test set RMSE for multiple linear regression:', rmse_linear)"
   ]
  },
  {
   "cell_type": "code",
   "execution_count": null,
   "metadata": {},
   "outputs": [],
   "source": [
    "def fit(row):\n",
    "    return sum(best_slopes * np.array(row))\n",
    "\n",
    "fitted = test_attributes.apply(fit, axis=1)\n",
    "plt.scatter(fitted, test_satisfaction);\n",
    "# Plot x=y line.\n",
    "plt.plot([0, 110], [0, 110], color='red');\n",
    "correlation(fitted, test_satisfaction)"
   ]
  },
  {
   "cell_type": "code",
   "execution_count": null,
   "metadata": {},
   "outputs": [],
   "source": [
    "# Plot the residuals\n",
    "plt.scatter(test_satisfaction, test_satisfaction - fitted)\n",
    "plt.plot([0, 100], [0, 0], color='red')\n",
    "plt.xticks(rotation=45);"
   ]
  }
 ],
 "metadata": {
  "kernelspec": {
   "display_name": "Python 3",
   "language": "python",
   "name": "python3"
  },
  "language_info": {
   "codemirror_mode": {
    "name": "ipython",
    "version": 3
   },
   "file_extension": ".py",
   "mimetype": "text/x-python",
   "name": "python",
   "nbconvert_exporter": "python",
   "pygments_lexer": "ipython3",
   "version": "3.8.3"
  }
 },
 "nbformat": 4,
 "nbformat_minor": 4
}
